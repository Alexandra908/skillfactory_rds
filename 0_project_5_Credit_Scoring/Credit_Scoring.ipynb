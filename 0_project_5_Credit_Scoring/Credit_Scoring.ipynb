{
 "cells": [
  {
   "cell_type": "code",
   "execution_count": 1,
   "metadata": {},
   "outputs": [],
   "source": [
    "from pandas import Series\n",
    "import pandas as pd\n",
    "import numpy as np\n",
    "\n",
    "import matplotlib.pyplot as plt\n",
    "import seaborn as sns\n",
    "\n",
    "from sklearn import preprocessing\n",
    "from sklearn.feature_selection import f_classif, mutual_info_classif\n",
    "from sklearn.preprocessing import LabelEncoder, OneHotEncoder, StandardScaler\n",
    "\n",
    "from sklearn.model_selection import train_test_split\n",
    "from sklearn.linear_model import LogisticRegression\n",
    "\n",
    "\n",
    "from sklearn.metrics import confusion_matrix\n",
    "from sklearn.metrics import auc, roc_auc_score, roc_curve"
   ]
  },
  {
   "cell_type": "code",
   "execution_count": 2,
   "metadata": {},
   "outputs": [],
   "source": [
    "# Загрузим данные.\n",
    "train = pd.read_csv('train.csv', sep=',')\n",
    "test = pd.read_csv('test.csv', sep=',')"
   ]
  },
  {
   "cell_type": "markdown",
   "metadata": {},
   "source": [
    "Изучим данные в файлах и типы данных столбцов."
   ]
  },
  {
   "cell_type": "code",
   "execution_count": 3,
   "metadata": {},
   "outputs": [
    {
     "data": {
      "text/html": [
       "<div>\n",
       "<style scoped>\n",
       "    .dataframe tbody tr th:only-of-type {\n",
       "        vertical-align: middle;\n",
       "    }\n",
       "\n",
       "    .dataframe tbody tr th {\n",
       "        vertical-align: top;\n",
       "    }\n",
       "\n",
       "    .dataframe thead th {\n",
       "        text-align: right;\n",
       "    }\n",
       "</style>\n",
       "<table border=\"1\" class=\"dataframe\">\n",
       "  <thead>\n",
       "    <tr style=\"text-align: right;\">\n",
       "      <th></th>\n",
       "      <th>client_id</th>\n",
       "      <th>app_date</th>\n",
       "      <th>education</th>\n",
       "      <th>sex</th>\n",
       "      <th>age</th>\n",
       "      <th>car</th>\n",
       "      <th>car_type</th>\n",
       "      <th>decline_app_cnt</th>\n",
       "      <th>good_work</th>\n",
       "      <th>score_bki</th>\n",
       "      <th>bki_request_cnt</th>\n",
       "      <th>region_rating</th>\n",
       "      <th>home_address</th>\n",
       "      <th>work_address</th>\n",
       "      <th>income</th>\n",
       "      <th>sna</th>\n",
       "      <th>first_time</th>\n",
       "      <th>foreign_passport</th>\n",
       "      <th>default</th>\n",
       "    </tr>\n",
       "  </thead>\n",
       "  <tbody>\n",
       "    <tr>\n",
       "      <th>0</th>\n",
       "      <td>25905</td>\n",
       "      <td>01FEB2014</td>\n",
       "      <td>SCH</td>\n",
       "      <td>M</td>\n",
       "      <td>62</td>\n",
       "      <td>Y</td>\n",
       "      <td>Y</td>\n",
       "      <td>0</td>\n",
       "      <td>0</td>\n",
       "      <td>-2.008753</td>\n",
       "      <td>1</td>\n",
       "      <td>50</td>\n",
       "      <td>1</td>\n",
       "      <td>2</td>\n",
       "      <td>18000</td>\n",
       "      <td>4</td>\n",
       "      <td>1</td>\n",
       "      <td>N</td>\n",
       "      <td>0</td>\n",
       "    </tr>\n",
       "    <tr>\n",
       "      <th>1</th>\n",
       "      <td>63161</td>\n",
       "      <td>12MAR2014</td>\n",
       "      <td>SCH</td>\n",
       "      <td>F</td>\n",
       "      <td>59</td>\n",
       "      <td>N</td>\n",
       "      <td>N</td>\n",
       "      <td>0</td>\n",
       "      <td>0</td>\n",
       "      <td>-1.532276</td>\n",
       "      <td>3</td>\n",
       "      <td>50</td>\n",
       "      <td>2</td>\n",
       "      <td>3</td>\n",
       "      <td>19000</td>\n",
       "      <td>4</td>\n",
       "      <td>1</td>\n",
       "      <td>N</td>\n",
       "      <td>0</td>\n",
       "    </tr>\n",
       "    <tr>\n",
       "      <th>2</th>\n",
       "      <td>25887</td>\n",
       "      <td>01FEB2014</td>\n",
       "      <td>SCH</td>\n",
       "      <td>M</td>\n",
       "      <td>25</td>\n",
       "      <td>Y</td>\n",
       "      <td>N</td>\n",
       "      <td>2</td>\n",
       "      <td>0</td>\n",
       "      <td>-1.408142</td>\n",
       "      <td>1</td>\n",
       "      <td>80</td>\n",
       "      <td>1</td>\n",
       "      <td>2</td>\n",
       "      <td>30000</td>\n",
       "      <td>1</td>\n",
       "      <td>4</td>\n",
       "      <td>Y</td>\n",
       "      <td>0</td>\n",
       "    </tr>\n",
       "    <tr>\n",
       "      <th>3</th>\n",
       "      <td>16222</td>\n",
       "      <td>23JAN2014</td>\n",
       "      <td>SCH</td>\n",
       "      <td>F</td>\n",
       "      <td>53</td>\n",
       "      <td>N</td>\n",
       "      <td>N</td>\n",
       "      <td>0</td>\n",
       "      <td>0</td>\n",
       "      <td>-2.057471</td>\n",
       "      <td>2</td>\n",
       "      <td>50</td>\n",
       "      <td>2</td>\n",
       "      <td>3</td>\n",
       "      <td>10000</td>\n",
       "      <td>1</td>\n",
       "      <td>3</td>\n",
       "      <td>N</td>\n",
       "      <td>0</td>\n",
       "    </tr>\n",
       "    <tr>\n",
       "      <th>4</th>\n",
       "      <td>101655</td>\n",
       "      <td>18APR2014</td>\n",
       "      <td>GRD</td>\n",
       "      <td>M</td>\n",
       "      <td>48</td>\n",
       "      <td>N</td>\n",
       "      <td>N</td>\n",
       "      <td>0</td>\n",
       "      <td>1</td>\n",
       "      <td>-1.244723</td>\n",
       "      <td>1</td>\n",
       "      <td>60</td>\n",
       "      <td>2</td>\n",
       "      <td>3</td>\n",
       "      <td>30000</td>\n",
       "      <td>1</td>\n",
       "      <td>4</td>\n",
       "      <td>Y</td>\n",
       "      <td>0</td>\n",
       "    </tr>\n",
       "    <tr>\n",
       "      <th>5</th>\n",
       "      <td>41415</td>\n",
       "      <td>18FEB2014</td>\n",
       "      <td>SCH</td>\n",
       "      <td>M</td>\n",
       "      <td>27</td>\n",
       "      <td>Y</td>\n",
       "      <td>N</td>\n",
       "      <td>0</td>\n",
       "      <td>1</td>\n",
       "      <td>-2.032257</td>\n",
       "      <td>0</td>\n",
       "      <td>50</td>\n",
       "      <td>1</td>\n",
       "      <td>1</td>\n",
       "      <td>15000</td>\n",
       "      <td>2</td>\n",
       "      <td>3</td>\n",
       "      <td>N</td>\n",
       "      <td>0</td>\n",
       "    </tr>\n",
       "    <tr>\n",
       "      <th>6</th>\n",
       "      <td>28436</td>\n",
       "      <td>04FEB2014</td>\n",
       "      <td>SCH</td>\n",
       "      <td>M</td>\n",
       "      <td>39</td>\n",
       "      <td>N</td>\n",
       "      <td>N</td>\n",
       "      <td>0</td>\n",
       "      <td>0</td>\n",
       "      <td>-2.225004</td>\n",
       "      <td>0</td>\n",
       "      <td>60</td>\n",
       "      <td>1</td>\n",
       "      <td>2</td>\n",
       "      <td>28000</td>\n",
       "      <td>1</td>\n",
       "      <td>1</td>\n",
       "      <td>N</td>\n",
       "      <td>0</td>\n",
       "    </tr>\n",
       "    <tr>\n",
       "      <th>7</th>\n",
       "      <td>68769</td>\n",
       "      <td>17MAR2014</td>\n",
       "      <td>SCH</td>\n",
       "      <td>F</td>\n",
       "      <td>39</td>\n",
       "      <td>N</td>\n",
       "      <td>N</td>\n",
       "      <td>0</td>\n",
       "      <td>0</td>\n",
       "      <td>-1.522739</td>\n",
       "      <td>1</td>\n",
       "      <td>50</td>\n",
       "      <td>2</td>\n",
       "      <td>3</td>\n",
       "      <td>45000</td>\n",
       "      <td>3</td>\n",
       "      <td>3</td>\n",
       "      <td>N</td>\n",
       "      <td>0</td>\n",
       "    </tr>\n",
       "    <tr>\n",
       "      <th>8</th>\n",
       "      <td>38424</td>\n",
       "      <td>14FEB2014</td>\n",
       "      <td>SCH</td>\n",
       "      <td>F</td>\n",
       "      <td>50</td>\n",
       "      <td>Y</td>\n",
       "      <td>N</td>\n",
       "      <td>1</td>\n",
       "      <td>0</td>\n",
       "      <td>-1.676061</td>\n",
       "      <td>0</td>\n",
       "      <td>50</td>\n",
       "      <td>1</td>\n",
       "      <td>1</td>\n",
       "      <td>30000</td>\n",
       "      <td>1</td>\n",
       "      <td>4</td>\n",
       "      <td>N</td>\n",
       "      <td>0</td>\n",
       "    </tr>\n",
       "    <tr>\n",
       "      <th>9</th>\n",
       "      <td>4496</td>\n",
       "      <td>10JAN2014</td>\n",
       "      <td>UGR</td>\n",
       "      <td>F</td>\n",
       "      <td>54</td>\n",
       "      <td>N</td>\n",
       "      <td>N</td>\n",
       "      <td>0</td>\n",
       "      <td>0</td>\n",
       "      <td>-2.695176</td>\n",
       "      <td>1</td>\n",
       "      <td>50</td>\n",
       "      <td>2</td>\n",
       "      <td>3</td>\n",
       "      <td>24000</td>\n",
       "      <td>1</td>\n",
       "      <td>3</td>\n",
       "      <td>N</td>\n",
       "      <td>0</td>\n",
       "    </tr>\n",
       "  </tbody>\n",
       "</table>\n",
       "</div>"
      ],
      "text/plain": [
       "   client_id   app_date education sex  age car car_type  decline_app_cnt  \\\n",
       "0      25905  01FEB2014       SCH   M   62   Y        Y                0   \n",
       "1      63161  12MAR2014       SCH   F   59   N        N                0   \n",
       "2      25887  01FEB2014       SCH   M   25   Y        N                2   \n",
       "3      16222  23JAN2014       SCH   F   53   N        N                0   \n",
       "4     101655  18APR2014       GRD   M   48   N        N                0   \n",
       "5      41415  18FEB2014       SCH   M   27   Y        N                0   \n",
       "6      28436  04FEB2014       SCH   M   39   N        N                0   \n",
       "7      68769  17MAR2014       SCH   F   39   N        N                0   \n",
       "8      38424  14FEB2014       SCH   F   50   Y        N                1   \n",
       "9       4496  10JAN2014       UGR   F   54   N        N                0   \n",
       "\n",
       "   good_work  score_bki  bki_request_cnt  region_rating  home_address  \\\n",
       "0          0  -2.008753                1             50             1   \n",
       "1          0  -1.532276                3             50             2   \n",
       "2          0  -1.408142                1             80             1   \n",
       "3          0  -2.057471                2             50             2   \n",
       "4          1  -1.244723                1             60             2   \n",
       "5          1  -2.032257                0             50             1   \n",
       "6          0  -2.225004                0             60             1   \n",
       "7          0  -1.522739                1             50             2   \n",
       "8          0  -1.676061                0             50             1   \n",
       "9          0  -2.695176                1             50             2   \n",
       "\n",
       "   work_address  income  sna  first_time foreign_passport  default  \n",
       "0             2   18000    4           1                N        0  \n",
       "1             3   19000    4           1                N        0  \n",
       "2             2   30000    1           4                Y        0  \n",
       "3             3   10000    1           3                N        0  \n",
       "4             3   30000    1           4                Y        0  \n",
       "5             1   15000    2           3                N        0  \n",
       "6             2   28000    1           1                N        0  \n",
       "7             3   45000    3           3                N        0  \n",
       "8             1   30000    1           4                N        0  \n",
       "9             3   24000    1           3                N        0  "
      ]
     },
     "metadata": {},
     "output_type": "display_data"
    },
    {
     "name": "stdout",
     "output_type": "stream",
     "text": [
      "<class 'pandas.core.frame.DataFrame'>\n",
      "RangeIndex: 73799 entries, 0 to 73798\n",
      "Data columns (total 19 columns):\n",
      " #   Column            Non-Null Count  Dtype  \n",
      "---  ------            --------------  -----  \n",
      " 0   client_id         73799 non-null  int64  \n",
      " 1   app_date          73799 non-null  object \n",
      " 2   education         73492 non-null  object \n",
      " 3   sex               73799 non-null  object \n",
      " 4   age               73799 non-null  int64  \n",
      " 5   car               73799 non-null  object \n",
      " 6   car_type          73799 non-null  object \n",
      " 7   decline_app_cnt   73799 non-null  int64  \n",
      " 8   good_work         73799 non-null  int64  \n",
      " 9   score_bki         73799 non-null  float64\n",
      " 10  bki_request_cnt   73799 non-null  int64  \n",
      " 11  region_rating     73799 non-null  int64  \n",
      " 12  home_address      73799 non-null  int64  \n",
      " 13  work_address      73799 non-null  int64  \n",
      " 14  income            73799 non-null  int64  \n",
      " 15  sna               73799 non-null  int64  \n",
      " 16  first_time        73799 non-null  int64  \n",
      " 17  foreign_passport  73799 non-null  object \n",
      " 18  default           73799 non-null  int64  \n",
      "dtypes: float64(1), int64(12), object(6)\n",
      "memory usage: 10.7+ MB\n"
     ]
    }
   ],
   "source": [
    "display(train.head(10)) \n",
    "train.info() "
   ]
  },
  {
   "cell_type": "markdown",
   "metadata": {},
   "source": [
    "Мы видим, что в Data 73799 строк и 19 столбцов (колонок):\n",
    "\n",
    "13 колонок содержат числовые данные \n",
    "\n",
    "    client_id - идентификатор клиента\n",
    "    age - возраст заемщика\n",
    "    decline_app_cnt - количество отказанных прошлых заявок\n",
    "    good_work - флаг наличия “хорошей” работы\n",
    "    score_bki - скоринговый балл по данным из БКИ\n",
    "    bki_request_cnt - количество запросов в БКИ\n",
    "    region_rating - рейтинг региона\n",
    "    home_address - категоризатор домашнего адреса\n",
    "    work_address - категоризатор рабочего адреса\n",
    "    income - доход заемщика\n",
    "    sna - связь заемщика с клиентами банка\n",
    "    first_time - давность наличия информации о заемщике\n",
    "    \n",
    "    default - флаг дефолта по кредиту - в колонке данные содержащие наш прогнозируемый параметр - вероятность дефолта клиента по шкале от 0 до 1;\n",
    "\n",
    "6 колонок содержат данные типа 'object':\n",
    "\n",
    "    4 колонки содержат данные, которые можно отнести к бинарным признакам:\n",
    "        sex - пол заемщика (Y/N)\n",
    "        car - флаг наличия автомобиля (Y/N)\n",
    "        car_type - флаг автомобиля иномарки (Y/N)\n",
    "        foreign_passport - наличие загранпаспорта (F/M)\n",
    "    1 колонка 'education' - уровень образования - категоральный признак\n",
    "    1 колонка 'app_date' - дата подачи заявки - строковая величина, содержащая информацию о дате."
   ]
  },
  {
   "cell_type": "code",
   "execution_count": 4,
   "metadata": {
    "scrolled": true
   },
   "outputs": [
    {
     "data": {
      "text/plain": [
       "6141     1\n",
       "14329    1\n",
       "16376    1\n",
       "18423    1\n",
       "20470    1\n",
       "        ..\n",
       "24588    1\n",
       "96303    1\n",
       "45078    1\n",
       "320      1\n",
       "2049     1\n",
       "Name: client_id, Length: 73799, dtype: int64"
      ]
     },
     "execution_count": 4,
     "metadata": {},
     "output_type": "execute_result"
    }
   ],
   "source": [
    "# Изучим параметр 'client_id'\n",
    "\n",
    "train.client_id.value_counts().sort_values()"
   ]
  },
  {
   "cell_type": "markdown",
   "metadata": {},
   "source": [
    "Все значения параметра 'client_id' уникальные."
   ]
  },
  {
   "cell_type": "markdown",
   "metadata": {},
   "source": [
    "Проверим пропуски в колонках:"
   ]
  },
  {
   "cell_type": "code",
   "execution_count": 5,
   "metadata": {},
   "outputs": [
    {
     "data": {
      "text/plain": [
       "client_id             0\n",
       "app_date              0\n",
       "education           307\n",
       "sex                   0\n",
       "age                   0\n",
       "car                   0\n",
       "car_type              0\n",
       "decline_app_cnt       0\n",
       "good_work             0\n",
       "score_bki             0\n",
       "bki_request_cnt       0\n",
       "region_rating         0\n",
       "home_address          0\n",
       "work_address          0\n",
       "income                0\n",
       "sna                   0\n",
       "first_time            0\n",
       "foreign_passport      0\n",
       "default               0\n",
       "dtype: int64"
      ]
     },
     "execution_count": 5,
     "metadata": {},
     "output_type": "execute_result"
    }
   ],
   "source": [
    "train.isnull().sum()"
   ]
  },
  {
   "cell_type": "code",
   "execution_count": 6,
   "metadata": {},
   "outputs": [
    {
     "data": {
      "text/plain": [
       "<AxesSubplot:>"
      ]
     },
     "execution_count": 6,
     "metadata": {},
     "output_type": "execute_result"
    },
    {
     "data": {
      "image/png": "[encoded data removed]",
      "text/plain": [
       "<Figure size 432x288 with 1 Axes>"
      ]
     },
     "metadata": {
      "needs_background": "light"
     },
     "output_type": "display_data"
    }
   ],
   "source": [
    "train.isnull().sum().plot.bar()"
   ]
  },
  {
   "cell_type": "markdown",
   "metadata": {},
   "source": [
    "Мы видим, что пропуски содержаться только в одном признаке 'education' - уровень образования. Рассмотрим значения этого признака подробнее и избавимся от пропусков."
   ]
  },
  {
   "cell_type": "code",
   "execution_count": 7,
   "metadata": {},
   "outputs": [
    {
     "data": {
      "text/plain": [
       "SCH    38860\n",
       "GRD    23365\n",
       "UGR     9816\n",
       "PGR     1257\n",
       "ACD      194\n",
       "Name: education, dtype: int64"
      ]
     },
     "execution_count": 7,
     "metadata": {},
     "output_type": "execute_result"
    }
   ],
   "source": [
    "train['education'].value_counts() # Какие значения содержатся и как часто повторяются?"
   ]
  },
  {
   "cell_type": "code",
   "execution_count": 8,
   "metadata": {},
   "outputs": [
    {
     "data": {
      "text/plain": [
       "<AxesSubplot:>"
      ]
     },
     "execution_count": 8,
     "metadata": {},
     "output_type": "execute_result"
    },
    {
     "data": {
      "image/png": "[encoded data removed]",
      "text/plain": [
       "<Figure size 432x288 with 1 Axes>"
      ]
     },
     "metadata": {
      "needs_background": "light"
     },
     "output_type": "display_data"
    }
   ],
   "source": [
    "train['education'].value_counts().plot.barh() # Визуализируем"
   ]
  },
  {
   "cell_type": "code",
   "execution_count": 9,
   "metadata": {},
   "outputs": [],
   "source": [
    "# Заполним пропуски наиболее часто повторяющимся значением.\n",
    "\n",
    "train.loc[(train['education'].isnull()), 'education'] = 'OTHER'"
   ]
  },
  {
   "cell_type": "code",
   "execution_count": 10,
   "metadata": {},
   "outputs": [
    {
     "name": "stdout",
     "output_type": "stream",
     "text": [
      "<class 'pandas.core.frame.DataFrame'>\n",
      "RangeIndex: 73799 entries, 0 to 73798\n",
      "Data columns (total 19 columns):\n",
      " #   Column            Non-Null Count  Dtype  \n",
      "---  ------            --------------  -----  \n",
      " 0   client_id         73799 non-null  int64  \n",
      " 1   app_date          73799 non-null  object \n",
      " 2   education         73799 non-null  object \n",
      " 3   sex               73799 non-null  object \n",
      " 4   age               73799 non-null  int64  \n",
      " 5   car               73799 non-null  object \n",
      " 6   car_type          73799 non-null  object \n",
      " 7   decline_app_cnt   73799 non-null  int64  \n",
      " 8   good_work         73799 non-null  int64  \n",
      " 9   score_bki         73799 non-null  float64\n",
      " 10  bki_request_cnt   73799 non-null  int64  \n",
      " 11  region_rating     73799 non-null  int64  \n",
      " 12  home_address      73799 non-null  int64  \n",
      " 13  work_address      73799 non-null  int64  \n",
      " 14  income            73799 non-null  int64  \n",
      " 15  sna               73799 non-null  int64  \n",
      " 16  first_time        73799 non-null  int64  \n",
      " 17  foreign_passport  73799 non-null  object \n",
      " 18  default           73799 non-null  int64  \n",
      "dtypes: float64(1), int64(12), object(6)\n",
      "memory usage: 10.7+ MB\n"
     ]
    }
   ],
   "source": [
    "train.info() # Проверим, заполнены ли пропуски."
   ]
  },
  {
   "cell_type": "code",
   "execution_count": 11,
   "metadata": {},
   "outputs": [],
   "source": [
    "# Сгруппируем в три категории по типу их обработки (категориальные, бинарные и числовые).\n",
    "bin_cols = ['sex', 'car', 'car_type', 'good_work', 'foreign_passport']\n",
    "cat_cols = ['education', 'home_address', 'work_address', 'sna', 'first_time']\n",
    "num_cols = ['age', 'decline_app_cnt', 'bki_request_cnt', 'income', 'score_bki', 'region_rating']"
   ]
  },
  {
   "cell_type": "markdown",
   "metadata": {},
   "source": [
    "# Категоральные признаки.\n",
    "Преобразуем бинарные признаки в числовые (0 или 1)."
   ]
  },
  {
   "cell_type": "code",
   "execution_count": 12,
   "metadata": {},
   "outputs": [
    {
     "data": {
      "text/html": [
       "<div>\n",
       "<style scoped>\n",
       "    .dataframe tbody tr th:only-of-type {\n",
       "        vertical-align: middle;\n",
       "    }\n",
       "\n",
       "    .dataframe tbody tr th {\n",
       "        vertical-align: top;\n",
       "    }\n",
       "\n",
       "    .dataframe thead th {\n",
       "        text-align: right;\n",
       "    }\n",
       "</style>\n",
       "<table border=\"1\" class=\"dataframe\">\n",
       "  <thead>\n",
       "    <tr style=\"text-align: right;\">\n",
       "      <th></th>\n",
       "      <th>client_id</th>\n",
       "      <th>app_date</th>\n",
       "      <th>education</th>\n",
       "      <th>sex</th>\n",
       "      <th>age</th>\n",
       "      <th>car</th>\n",
       "      <th>car_type</th>\n",
       "      <th>decline_app_cnt</th>\n",
       "      <th>good_work</th>\n",
       "      <th>score_bki</th>\n",
       "      <th>bki_request_cnt</th>\n",
       "      <th>region_rating</th>\n",
       "      <th>home_address</th>\n",
       "      <th>work_address</th>\n",
       "      <th>income</th>\n",
       "      <th>sna</th>\n",
       "      <th>first_time</th>\n",
       "      <th>foreign_passport</th>\n",
       "      <th>default</th>\n",
       "    </tr>\n",
       "  </thead>\n",
       "  <tbody>\n",
       "    <tr>\n",
       "      <th>0</th>\n",
       "      <td>25905</td>\n",
       "      <td>01FEB2014</td>\n",
       "      <td>SCH</td>\n",
       "      <td>1</td>\n",
       "      <td>62</td>\n",
       "      <td>1</td>\n",
       "      <td>1</td>\n",
       "      <td>0</td>\n",
       "      <td>0</td>\n",
       "      <td>-2.008753</td>\n",
       "      <td>1</td>\n",
       "      <td>50</td>\n",
       "      <td>1</td>\n",
       "      <td>2</td>\n",
       "      <td>18000</td>\n",
       "      <td>4</td>\n",
       "      <td>1</td>\n",
       "      <td>0</td>\n",
       "      <td>0</td>\n",
       "    </tr>\n",
       "    <tr>\n",
       "      <th>1</th>\n",
       "      <td>63161</td>\n",
       "      <td>12MAR2014</td>\n",
       "      <td>SCH</td>\n",
       "      <td>0</td>\n",
       "      <td>59</td>\n",
       "      <td>0</td>\n",
       "      <td>0</td>\n",
       "      <td>0</td>\n",
       "      <td>0</td>\n",
       "      <td>-1.532276</td>\n",
       "      <td>3</td>\n",
       "      <td>50</td>\n",
       "      <td>2</td>\n",
       "      <td>3</td>\n",
       "      <td>19000</td>\n",
       "      <td>4</td>\n",
       "      <td>1</td>\n",
       "      <td>0</td>\n",
       "      <td>0</td>\n",
       "    </tr>\n",
       "    <tr>\n",
       "      <th>2</th>\n",
       "      <td>25887</td>\n",
       "      <td>01FEB2014</td>\n",
       "      <td>SCH</td>\n",
       "      <td>1</td>\n",
       "      <td>25</td>\n",
       "      <td>1</td>\n",
       "      <td>0</td>\n",
       "      <td>2</td>\n",
       "      <td>0</td>\n",
       "      <td>-1.408142</td>\n",
       "      <td>1</td>\n",
       "      <td>80</td>\n",
       "      <td>1</td>\n",
       "      <td>2</td>\n",
       "      <td>30000</td>\n",
       "      <td>1</td>\n",
       "      <td>4</td>\n",
       "      <td>1</td>\n",
       "      <td>0</td>\n",
       "    </tr>\n",
       "    <tr>\n",
       "      <th>3</th>\n",
       "      <td>16222</td>\n",
       "      <td>23JAN2014</td>\n",
       "      <td>SCH</td>\n",
       "      <td>0</td>\n",
       "      <td>53</td>\n",
       "      <td>0</td>\n",
       "      <td>0</td>\n",
       "      <td>0</td>\n",
       "      <td>0</td>\n",
       "      <td>-2.057471</td>\n",
       "      <td>2</td>\n",
       "      <td>50</td>\n",
       "      <td>2</td>\n",
       "      <td>3</td>\n",
       "      <td>10000</td>\n",
       "      <td>1</td>\n",
       "      <td>3</td>\n",
       "      <td>0</td>\n",
       "      <td>0</td>\n",
       "    </tr>\n",
       "    <tr>\n",
       "      <th>4</th>\n",
       "      <td>101655</td>\n",
       "      <td>18APR2014</td>\n",
       "      <td>GRD</td>\n",
       "      <td>1</td>\n",
       "      <td>48</td>\n",
       "      <td>0</td>\n",
       "      <td>0</td>\n",
       "      <td>0</td>\n",
       "      <td>1</td>\n",
       "      <td>-1.244723</td>\n",
       "      <td>1</td>\n",
       "      <td>60</td>\n",
       "      <td>2</td>\n",
       "      <td>3</td>\n",
       "      <td>30000</td>\n",
       "      <td>1</td>\n",
       "      <td>4</td>\n",
       "      <td>1</td>\n",
       "      <td>0</td>\n",
       "    </tr>\n",
       "  </tbody>\n",
       "</table>\n",
       "</div>"
      ],
      "text/plain": [
       "   client_id   app_date education  sex  age  car  car_type  decline_app_cnt  \\\n",
       "0      25905  01FEB2014       SCH    1   62    1         1                0   \n",
       "1      63161  12MAR2014       SCH    0   59    0         0                0   \n",
       "2      25887  01FEB2014       SCH    1   25    1         0                2   \n",
       "3      16222  23JAN2014       SCH    0   53    0         0                0   \n",
       "4     101655  18APR2014       GRD    1   48    0         0                0   \n",
       "\n",
       "   good_work  score_bki  bki_request_cnt  region_rating  home_address  \\\n",
       "0          0  -2.008753                1             50             1   \n",
       "1          0  -1.532276                3             50             2   \n",
       "2          0  -1.408142                1             80             1   \n",
       "3          0  -2.057471                2             50             2   \n",
       "4          1  -1.244723                1             60             2   \n",
       "\n",
       "   work_address  income  sna  first_time  foreign_passport  default  \n",
       "0             2   18000    4           1                 0        0  \n",
       "1             3   19000    4           1                 0        0  \n",
       "2             2   30000    1           4                 1        0  \n",
       "3             3   10000    1           3                 0        0  \n",
       "4             3   30000    1           4                 1        0  "
      ]
     },
     "execution_count": 12,
     "metadata": {},
     "output_type": "execute_result"
    }
   ],
   "source": [
    "# Для бинарных признаков мы будем использовать LabelEncoder\n",
    "\n",
    "label_encoder = LabelEncoder()\n",
    "\n",
    "for column in bin_cols:\n",
    "    train[column] = label_encoder.fit_transform(train[column])\n",
    "    \n",
    "# убедимся в преобразовании    \n",
    "train.head()"
   ]
  },
  {
   "cell_type": "markdown",
   "metadata": {},
   "source": [
    "Попробую преобразовать признак 'app_date' в число и посмотрим результат."
   ]
  },
  {
   "cell_type": "code",
   "execution_count": 13,
   "metadata": {},
   "outputs": [],
   "source": [
    "import datetime\n",
    "\n",
    "train['app_date'] = pd.to_datetime(train['app_date'])\n",
    "train['app_date'] = train['app_date'].astype(str)\n",
    "train['app_date'] = train['app_date'].str.replace('-', '').astype(int)"
   ]
  },
  {
   "cell_type": "code",
   "execution_count": 14,
   "metadata": {},
   "outputs": [
    {
     "data": {
      "text/html": [
       "<div>\n",
       "<style scoped>\n",
       "    .dataframe tbody tr th:only-of-type {\n",
       "        vertical-align: middle;\n",
       "    }\n",
       "\n",
       "    .dataframe tbody tr th {\n",
       "        vertical-align: top;\n",
       "    }\n",
       "\n",
       "    .dataframe thead th {\n",
       "        text-align: right;\n",
       "    }\n",
       "</style>\n",
       "<table border=\"1\" class=\"dataframe\">\n",
       "  <thead>\n",
       "    <tr style=\"text-align: right;\">\n",
       "      <th></th>\n",
       "      <th>client_id</th>\n",
       "      <th>app_date</th>\n",
       "      <th>education</th>\n",
       "      <th>sex</th>\n",
       "      <th>age</th>\n",
       "      <th>car</th>\n",
       "      <th>car_type</th>\n",
       "      <th>decline_app_cnt</th>\n",
       "      <th>good_work</th>\n",
       "      <th>score_bki</th>\n",
       "      <th>bki_request_cnt</th>\n",
       "      <th>region_rating</th>\n",
       "      <th>home_address</th>\n",
       "      <th>work_address</th>\n",
       "      <th>income</th>\n",
       "      <th>sna</th>\n",
       "      <th>first_time</th>\n",
       "      <th>foreign_passport</th>\n",
       "      <th>default</th>\n",
       "    </tr>\n",
       "  </thead>\n",
       "  <tbody>\n",
       "    <tr>\n",
       "      <th>0</th>\n",
       "      <td>25905</td>\n",
       "      <td>20140201</td>\n",
       "      <td>SCH</td>\n",
       "      <td>1</td>\n",
       "      <td>62</td>\n",
       "      <td>1</td>\n",
       "      <td>1</td>\n",
       "      <td>0</td>\n",
       "      <td>0</td>\n",
       "      <td>-2.008753</td>\n",
       "      <td>1</td>\n",
       "      <td>50</td>\n",
       "      <td>1</td>\n",
       "      <td>2</td>\n",
       "      <td>18000</td>\n",
       "      <td>4</td>\n",
       "      <td>1</td>\n",
       "      <td>0</td>\n",
       "      <td>0</td>\n",
       "    </tr>\n",
       "    <tr>\n",
       "      <th>1</th>\n",
       "      <td>63161</td>\n",
       "      <td>20140312</td>\n",
       "      <td>SCH</td>\n",
       "      <td>0</td>\n",
       "      <td>59</td>\n",
       "      <td>0</td>\n",
       "      <td>0</td>\n",
       "      <td>0</td>\n",
       "      <td>0</td>\n",
       "      <td>-1.532276</td>\n",
       "      <td>3</td>\n",
       "      <td>50</td>\n",
       "      <td>2</td>\n",
       "      <td>3</td>\n",
       "      <td>19000</td>\n",
       "      <td>4</td>\n",
       "      <td>1</td>\n",
       "      <td>0</td>\n",
       "      <td>0</td>\n",
       "    </tr>\n",
       "    <tr>\n",
       "      <th>2</th>\n",
       "      <td>25887</td>\n",
       "      <td>20140201</td>\n",
       "      <td>SCH</td>\n",
       "      <td>1</td>\n",
       "      <td>25</td>\n",
       "      <td>1</td>\n",
       "      <td>0</td>\n",
       "      <td>2</td>\n",
       "      <td>0</td>\n",
       "      <td>-1.408142</td>\n",
       "      <td>1</td>\n",
       "      <td>80</td>\n",
       "      <td>1</td>\n",
       "      <td>2</td>\n",
       "      <td>30000</td>\n",
       "      <td>1</td>\n",
       "      <td>4</td>\n",
       "      <td>1</td>\n",
       "      <td>0</td>\n",
       "    </tr>\n",
       "    <tr>\n",
       "      <th>3</th>\n",
       "      <td>16222</td>\n",
       "      <td>20140123</td>\n",
       "      <td>SCH</td>\n",
       "      <td>0</td>\n",
       "      <td>53</td>\n",
       "      <td>0</td>\n",
       "      <td>0</td>\n",
       "      <td>0</td>\n",
       "      <td>0</td>\n",
       "      <td>-2.057471</td>\n",
       "      <td>2</td>\n",
       "      <td>50</td>\n",
       "      <td>2</td>\n",
       "      <td>3</td>\n",
       "      <td>10000</td>\n",
       "      <td>1</td>\n",
       "      <td>3</td>\n",
       "      <td>0</td>\n",
       "      <td>0</td>\n",
       "    </tr>\n",
       "    <tr>\n",
       "      <th>4</th>\n",
       "      <td>101655</td>\n",
       "      <td>20140418</td>\n",
       "      <td>GRD</td>\n",
       "      <td>1</td>\n",
       "      <td>48</td>\n",
       "      <td>0</td>\n",
       "      <td>0</td>\n",
       "      <td>0</td>\n",
       "      <td>1</td>\n",
       "      <td>-1.244723</td>\n",
       "      <td>1</td>\n",
       "      <td>60</td>\n",
       "      <td>2</td>\n",
       "      <td>3</td>\n",
       "      <td>30000</td>\n",
       "      <td>1</td>\n",
       "      <td>4</td>\n",
       "      <td>1</td>\n",
       "      <td>0</td>\n",
       "    </tr>\n",
       "  </tbody>\n",
       "</table>\n",
       "</div>"
      ],
      "text/plain": [
       "   client_id  app_date education  sex  age  car  car_type  decline_app_cnt  \\\n",
       "0      25905  20140201       SCH    1   62    1         1                0   \n",
       "1      63161  20140312       SCH    0   59    0         0                0   \n",
       "2      25887  20140201       SCH    1   25    1         0                2   \n",
       "3      16222  20140123       SCH    0   53    0         0                0   \n",
       "4     101655  20140418       GRD    1   48    0         0                0   \n",
       "\n",
       "   good_work  score_bki  bki_request_cnt  region_rating  home_address  \\\n",
       "0          0  -2.008753                1             50             1   \n",
       "1          0  -1.532276                3             50             2   \n",
       "2          0  -1.408142                1             80             1   \n",
       "3          0  -2.057471                2             50             2   \n",
       "4          1  -1.244723                1             60             2   \n",
       "\n",
       "   work_address  income  sna  first_time  foreign_passport  default  \n",
       "0             2   18000    4           1                 0        0  \n",
       "1             3   19000    4           1                 0        0  \n",
       "2             2   30000    1           4                 1        0  \n",
       "3             3   10000    1           3                 0        0  \n",
       "4             3   30000    1           4                 1        0  "
      ]
     },
     "execution_count": 14,
     "metadata": {},
     "output_type": "execute_result"
    }
   ],
   "source": [
    "# убедимся в преобразовании    \n",
    "train.head()"
   ]
  },
  {
   "cell_type": "code",
   "execution_count": 15,
   "metadata": {},
   "outputs": [
    {
     "name": "stderr",
     "output_type": "stream",
     "text": [
      "/Users/aleksandrasokolova/opt/anaconda3/lib/python3.8/site-packages/seaborn/distributions.py:2551: FutureWarning: `distplot` is a deprecated function and will be removed in a future version. Please adapt your code to use either `displot` (a figure-level function with similar flexibility) or `histplot` (an axes-level function for histograms).\n",
      "  warnings.warn(msg, FutureWarning)\n"
     ]
    },
    {
     "data": {
      "image/png": "[encoded data removed]",
      "text/plain": [
       "<Figure size 432x288 with 1 Axes>"
      ]
     },
     "metadata": {
      "needs_background": "light"
     },
     "output_type": "display_data"
    }
   ],
   "source": [
    "sns_plot = sns.distplot(train['app_date'])\n",
    "fig = sns_plot.get_figure()"
   ]
  },
  {
   "cell_type": "markdown",
   "metadata": {},
   "source": [
    "Ну все же добавим его к числовым признакам."
   ]
  },
  {
   "cell_type": "markdown",
   "metadata": {},
   "source": [
    "Так же преобразуем категоральный признак 'education' в числовой.\n",
    "Используем dummy-кодирование. \n",
    "Метод, который называется One-Hot Encoding. Смысл его точно такой же, как у dummy-кодирования."
   ]
  },
  {
   "cell_type": "code",
   "execution_count": 16,
   "metadata": {},
   "outputs": [],
   "source": [
    "X_cat = OneHotEncoder(sparse = False).fit_transform(train[cat_cols].values)"
   ]
  },
  {
   "cell_type": "code",
   "execution_count": 17,
   "metadata": {},
   "outputs": [],
   "source": [
    "# Добавим признак 'app_date' в группу числовых признаков.\n",
    "\n",
    "num_cols = ['age', 'decline_app_cnt', 'bki_request_cnt', 'income', 'score_bki', 'region_rating', 'app_date']"
   ]
  },
  {
   "cell_type": "markdown",
   "metadata": {},
   "source": [
    "# Числовые признаки."
   ]
  },
  {
   "cell_type": "markdown",
   "metadata": {},
   "source": [
    "Проверим числовые признаки на наличие выбросов."
   ]
  },
  {
   "cell_type": "code",
   "execution_count": 18,
   "metadata": {
    "scrolled": true
   },
   "outputs": [
    {
     "name": "stdout",
     "output_type": "stream",
     "text": [
      "25-й перцентиль: 50.0, 75-й перцентиль: 60.0, IQR: 10.0, Границы выбросов [35.0, 75.0].\n"
     ]
    },
    {
     "data": {
      "text/plain": [
       "<module 'matplotlib.pyplot' from '/Users/aleksandrasokolova/opt/anaconda3/lib/python3.8/site-packages/matplotlib/pyplot.py'>"
      ]
     },
     "execution_count": 18,
     "metadata": {},
     "output_type": "execute_result"
    },
    {
     "data": {
      "image/png": "[encoded data removed]",
      "text/plain": [
       "<Figure size 432x288 with 1 Axes>"
      ]
     },
     "metadata": {
      "needs_background": "light"
     },
     "output_type": "display_data"
    }
   ],
   "source": [
    "# 'region_rating'\n",
    "## Найдем границы выбрасов\n",
    "\n",
    "median_region_rating = train.region_rating.median()\n",
    "IQR_region_rating = train.region_rating.quantile(0.75) - train.region_rating.quantile(0.25)\n",
    "quant_25_region_rating = train.region_rating.quantile(0.25)\n",
    "quant_75_region_rating = train.region_rating.quantile(0.75)\n",
    "print('25-й перцентиль: {}, 75-й перцентиль: {}, IQR: {}, Границы выбросов [{}, {}].'.format(\n",
    "    quant_25_region_rating, quant_75_region_rating, \n",
    "    IQR_region_rating, \n",
    "    quant_25_region_rating - 1.5*IQR_region_rating, \n",
    "    quant_75_region_rating + 1.5*IQR_region_rating))\n",
    "train.region_rating.loc[train.region_rating.between(\n",
    "    quant_25_region_rating - 1.5*IQR_region_rating, \n",
    "    quant_75_region_rating + 1.5*IQR_region_rating)].hist(bins=100, range=(0, 100))\n",
    "plt"
   ]
  },
  {
   "cell_type": "code",
   "execution_count": 19,
   "metadata": {},
   "outputs": [
    {
     "data": {
      "text/plain": [
       "count    73799.000000\n",
       "mean        56.725701\n",
       "std         13.055717\n",
       "min         20.000000\n",
       "25%         50.000000\n",
       "50%         50.000000\n",
       "75%         60.000000\n",
       "max         80.000000\n",
       "Name: region_rating, dtype: float64"
      ]
     },
     "execution_count": 19,
     "metadata": {},
     "output_type": "execute_result"
    }
   ],
   "source": [
    "train.region_rating.describe() # Посмотрим с помощью описательной статистики."
   ]
  },
  {
   "cell_type": "code",
   "execution_count": 20,
   "metadata": {
    "scrolled": true
   },
   "outputs": [
    {
     "name": "stdout",
     "output_type": "stream",
     "text": [
      "25-й перцентиль: 30.0, 75-й перцентиль: 48.0, IQR: 18.0, Границы выбросов [3.0, 75.0].\n"
     ]
    },
    {
     "data": {
      "text/plain": [
       "<module 'matplotlib.pyplot' from '/Users/aleksandrasokolova/opt/anaconda3/lib/python3.8/site-packages/matplotlib/pyplot.py'>"
      ]
     },
     "execution_count": 20,
     "metadata": {},
     "output_type": "execute_result"
    },
    {
     "data": {
      "image/png": "[encoded data removed]",
      "text/plain": [
       "<Figure size 432x288 with 1 Axes>"
      ]
     },
     "metadata": {
      "needs_background": "light"
     },
     "output_type": "display_data"
    }
   ],
   "source": [
    "# 'age'\n",
    "## Найдем границы выбрасов\n",
    "\n",
    "median_age = train.age.median()\n",
    "IQR_age = train.age.quantile(0.75) - train.age.quantile(0.25)\n",
    "quant_25_age = train.age.quantile(0.25)\n",
    "quant_75_age = train.age.quantile(0.75)\n",
    "print('25-й перцентиль: {}, 75-й перцентиль: {}, IQR: {}, Границы выбросов [{}, {}].'.format(\n",
    "    quant_25_age, quant_75_age, \n",
    "    IQR_age, \n",
    "    quant_25_age - 1.5*IQR_age, \n",
    "    quant_75_age + 1.5*IQR_age))\n",
    "train.age.loc[train.age.between(\n",
    "    quant_25_age - 1.5*IQR_age, \n",
    "    quant_75_age + 1.5*IQR_age)].hist(bins=10, range=(0, 80))\n",
    "plt"
   ]
  },
  {
   "cell_type": "code",
   "execution_count": 21,
   "metadata": {},
   "outputs": [
    {
     "data": {
      "text/plain": [
       "count    73799.000000\n",
       "mean        39.280641\n",
       "std         11.520378\n",
       "min         21.000000\n",
       "25%         30.000000\n",
       "50%         37.000000\n",
       "75%         48.000000\n",
       "max         72.000000\n",
       "Name: age, dtype: float64"
      ]
     },
     "execution_count": 21,
     "metadata": {},
     "output_type": "execute_result"
    }
   ],
   "source": [
    "train.age.describe() # Посмотрим с помощью описательной статистики."
   ]
  },
  {
   "cell_type": "code",
   "execution_count": 22,
   "metadata": {},
   "outputs": [
    {
     "name": "stdout",
     "output_type": "stream",
     "text": [
      "25-й перцентиль: 0.0, 75-й перцентиль: 0.0, IQR: 0.0, Границы выбросов [0.0, 0.0].\n"
     ]
    },
    {
     "data": {
      "text/plain": [
       "<module 'matplotlib.pyplot' from '/Users/aleksandrasokolova/opt/anaconda3/lib/python3.8/site-packages/matplotlib/pyplot.py'>"
      ]
     },
     "execution_count": 22,
     "metadata": {},
     "output_type": "execute_result"
    },
    {
     "data": {
      "image/png": "[encoded data removed]",
      "text/plain": [
       "<Figure size 432x288 with 1 Axes>"
      ]
     },
     "metadata": {
      "needs_background": "light"
     },
     "output_type": "display_data"
    }
   ],
   "source": [
    "# 'decline_app_cnt'\n",
    "## Найдем границы выбрасов\n",
    "\n",
    "median_decline_app_cnt = train.decline_app_cnt.median()\n",
    "IQR_decline_app_cnt = train.decline_app_cnt.quantile(0.75) - train.decline_app_cnt.quantile(0.25)\n",
    "quant_25_decline_app_cnt = train.decline_app_cnt.quantile(0.25)\n",
    "quant_75_decline_app_cnt = train.decline_app_cnt.quantile(0.75)\n",
    "print('25-й перцентиль: {}, 75-й перцентиль: {}, IQR: {}, Границы выбросов [{}, {}].'.format(\n",
    "    quant_25_decline_app_cnt, quant_75_decline_app_cnt, \n",
    "    IQR_decline_app_cnt, \n",
    "    quant_25_decline_app_cnt - 1.5*IQR_decline_app_cnt, \n",
    "    quant_75_decline_app_cnt + 1.5*IQR_decline_app_cnt))\n",
    "train.decline_app_cnt.loc[train.decline_app_cnt.between(\n",
    "    quant_25_decline_app_cnt - 1.5*IQR_decline_app_cnt, \n",
    "    quant_75_decline_app_cnt + 1.5*IQR_decline_app_cnt)].hist(bins=10, range=(0, 10))\n",
    "plt"
   ]
  },
  {
   "cell_type": "code",
   "execution_count": 23,
   "metadata": {},
   "outputs": [
    {
     "data": {
      "text/plain": [
       "count    73799.000000\n",
       "mean         0.275749\n",
       "std          0.804272\n",
       "min          0.000000\n",
       "25%          0.000000\n",
       "50%          0.000000\n",
       "75%          0.000000\n",
       "max         33.000000\n",
       "Name: decline_app_cnt, dtype: float64"
      ]
     },
     "execution_count": 23,
     "metadata": {},
     "output_type": "execute_result"
    }
   ],
   "source": [
    "train.decline_app_cnt.describe() # Посмотрим с помощью описательной статистики."
   ]
  },
  {
   "cell_type": "code",
   "execution_count": 24,
   "metadata": {},
   "outputs": [
    {
     "data": {
      "text/plain": [
       "<AxesSubplot:>"
      ]
     },
     "execution_count": 24,
     "metadata": {},
     "output_type": "execute_result"
    },
    {
     "data": {
      "image/png": "[encoded data removed]",
      "text/plain": [
       "<Figure size 432x288 with 1 Axes>"
      ]
     },
     "metadata": {
      "needs_background": "light"
     },
     "output_type": "display_data"
    }
   ],
   "source": [
    "train.boxplot(column=['decline_app_cnt']) # Построим ящик с усами."
   ]
  },
  {
   "cell_type": "markdown",
   "metadata": {},
   "source": [
    "Мы видим, что все значения отличные от нуля считаются выбросами, удалять их не имеет смысла, так что посмотрим как поведет себя модель с данным признаком, при необходимости удалим его."
   ]
  },
  {
   "cell_type": "code",
   "execution_count": 25,
   "metadata": {},
   "outputs": [],
   "source": [
    "# Для удаления этого признака\n",
    "\n",
    "#train.drop(['decline_app_cnt'], axis=1, inplace=True) "
   ]
  },
  {
   "cell_type": "code",
   "execution_count": 26,
   "metadata": {},
   "outputs": [
    {
     "name": "stdout",
     "output_type": "stream",
     "text": [
      "25-й перцентиль: 0.0, 75-й перцентиль: 3.0, IQR: 3.0, Границы выбросов [-4.5, 7.5].\n"
     ]
    },
    {
     "data": {
      "text/plain": [
       "<module 'matplotlib.pyplot' from '/Users/aleksandrasokolova/opt/anaconda3/lib/python3.8/site-packages/matplotlib/pyplot.py'>"
      ]
     },
     "execution_count": 26,
     "metadata": {},
     "output_type": "execute_result"
    },
    {
     "data": {
      "image/png": "[encoded data removed]",
      "text/plain": [
       "<Figure size 432x288 with 1 Axes>"
      ]
     },
     "metadata": {
      "needs_background": "light"
     },
     "output_type": "display_data"
    }
   ],
   "source": [
    "# 'bki_request_cnt'\n",
    "## Найдем границы выбрасов\n",
    "\n",
    "median_bki_request_cnt = train.bki_request_cnt.median()\n",
    "IQR_bki_request_cnt = train.bki_request_cnt.quantile(0.75) - train.bki_request_cnt.quantile(0.25)\n",
    "quant_25_bki_request_cnt = train.bki_request_cnt.quantile(0.25)\n",
    "quant_75_bki_request_cnt = train.bki_request_cnt.quantile(0.75)\n",
    "print('25-й перцентиль: {}, 75-й перцентиль: {}, IQR: {}, Границы выбросов [{}, {}].'.format(\n",
    "    quant_25_bki_request_cnt, quant_75_bki_request_cnt, \n",
    "    IQR_bki_request_cnt, \n",
    "    quant_25_bki_request_cnt - 1.5*IQR_bki_request_cnt, \n",
    "    quant_75_bki_request_cnt + 1.5*IQR_bki_request_cnt))\n",
    "train.bki_request_cnt.loc[train.bki_request_cnt.between(\n",
    "    quant_25_bki_request_cnt - 1.5*IQR_bki_request_cnt, \n",
    "    quant_75_bki_request_cnt + 1.5*IQR_bki_request_cnt)].hist(bins=5, range=(0, 10))\n",
    "plt"
   ]
  },
  {
   "cell_type": "code",
   "execution_count": 27,
   "metadata": {
    "scrolled": true
   },
   "outputs": [
    {
     "data": {
      "text/plain": [
       "count    73799.000000\n",
       "mean         2.000339\n",
       "std          2.252073\n",
       "min          0.000000\n",
       "25%          0.000000\n",
       "50%          1.000000\n",
       "75%          3.000000\n",
       "max         53.000000\n",
       "Name: bki_request_cnt, dtype: float64"
      ]
     },
     "execution_count": 27,
     "metadata": {},
     "output_type": "execute_result"
    }
   ],
   "source": [
    "train.bki_request_cnt.describe() # Посмотрим с помощью описательной статистики."
   ]
  },
  {
   "cell_type": "code",
   "execution_count": 28,
   "metadata": {},
   "outputs": [
    {
     "name": "stdout",
     "output_type": "stream",
     "text": [
      "25-й перцентиль: 20000.0, 75-й перцентиль: 48000.0, IQR: 28000.0, Границы выбросов [-22000.0, 90000.0].\n"
     ]
    },
    {
     "data": {
      "text/plain": [
       "<module 'matplotlib.pyplot' from '/Users/aleksandrasokolova/opt/anaconda3/lib/python3.8/site-packages/matplotlib/pyplot.py'>"
      ]
     },
     "execution_count": 28,
     "metadata": {},
     "output_type": "execute_result"
    },
    {
     "data": {
      "image/png": "[encoded data removed]",
      "text/plain": [
       "<Figure size 432x288 with 1 Axes>"
      ]
     },
     "metadata": {
      "needs_background": "light"
     },
     "output_type": "display_data"
    }
   ],
   "source": [
    "# 'income'\n",
    "## Найдем границы выбрасов\n",
    "\n",
    "median_income = train.income.median()\n",
    "IQR_income = train.income.quantile(0.75) - train.income.quantile(0.25)\n",
    "quant_25_income = train.income.quantile(0.25)\n",
    "quant_75_income = train.income.quantile(0.75)\n",
    "print('25-й перцентиль: {}, 75-й перцентиль: {}, IQR: {}, Границы выбросов [{}, {}].'.format(\n",
    "    quant_25_income, quant_75_income, \n",
    "    IQR_income, \n",
    "    quant_25_income - 1.5*IQR_income, \n",
    "    quant_75_income + 1.5*IQR_income))\n",
    "train.income.loc[train.income.between(\n",
    "    quant_25_income - 1.5*IQR_income, \n",
    "    quant_75_income + 1.5*IQR_income)].hist(bins=10, range=(0, 100000))\n",
    "plt"
   ]
  },
  {
   "cell_type": "code",
   "execution_count": 29,
   "metadata": {},
   "outputs": [
    {
     "data": {
      "text/plain": [
       "count      73799.000000\n",
       "mean       41099.775417\n",
       "std        46166.322400\n",
       "min         1000.000000\n",
       "25%        20000.000000\n",
       "50%        30000.000000\n",
       "75%        48000.000000\n",
       "max      1000000.000000\n",
       "Name: income, dtype: float64"
      ]
     },
     "execution_count": 29,
     "metadata": {},
     "output_type": "execute_result"
    }
   ],
   "source": [
    "train.income.describe() # Посмотрим с помощью описательной статистики."
   ]
  },
  {
   "cell_type": "code",
   "execution_count": 30,
   "metadata": {
    "scrolled": true
   },
   "outputs": [
    {
     "name": "stdout",
     "output_type": "stream",
     "text": [
      "25-й перцентиль: -2.259533835, 75-й перцентиль: -1.56983126, IQR: 0.6897025750000001, Границы выбросов [-3.2940876975, -0.5352773974999998].\n"
     ]
    },
    {
     "data": {
      "text/plain": [
       "<module 'matplotlib.pyplot' from '/Users/aleksandrasokolova/opt/anaconda3/lib/python3.8/site-packages/matplotlib/pyplot.py'>"
      ]
     },
     "execution_count": 30,
     "metadata": {},
     "output_type": "execute_result"
    },
    {
     "data": {
      "image/png": "[encoded data removed]",
      "text/plain": [
       "<Figure size 432x288 with 1 Axes>"
      ]
     },
     "metadata": {
      "needs_background": "light"
     },
     "output_type": "display_data"
    }
   ],
   "source": [
    "# 'score_bki'\n",
    "\n",
    "median_score_bki = train.score_bki.median()\n",
    "IQR_score_bki = train.score_bki.quantile(0.75) - train.score_bki.quantile(0.25)\n",
    "quant_25_score_bki = train.score_bki.quantile(0.25)\n",
    "quant_75_score_bki = train.score_bki.quantile(0.75)\n",
    "print('25-й перцентиль: {}, 75-й перцентиль: {}, IQR: {}, Границы выбросов [{}, {}].'.format(\n",
    "    quant_25_score_bki, quant_75_score_bki, \n",
    "    IQR_score_bki, \n",
    "    quant_25_score_bki - 1.5*IQR_score_bki, \n",
    "    quant_75_score_bki + 1.5*IQR_score_bki))\n",
    "train.score_bki.loc[train.score_bki.between(\n",
    "    quant_25_score_bki - 1.5*IQR_score_bki, \n",
    "    quant_75_score_bki + 1.5*IQR_score_bki)].hist(bins=5, range=(-5, 5))\n",
    "plt"
   ]
  },
  {
   "cell_type": "code",
   "execution_count": 31,
   "metadata": {},
   "outputs": [
    {
     "data": {
      "text/plain": [
       "count    73799.000000\n",
       "mean        -1.904724\n",
       "std          0.498231\n",
       "min         -3.624586\n",
       "25%         -2.259534\n",
       "50%         -1.920823\n",
       "75%         -1.569831\n",
       "max          0.199773\n",
       "Name: score_bki, dtype: float64"
      ]
     },
     "execution_count": 31,
     "metadata": {},
     "output_type": "execute_result"
    }
   ],
   "source": [
    "train.score_bki.describe() # Посмотрим с помощью описательной статистики."
   ]
  },
  {
   "cell_type": "markdown",
   "metadata": {},
   "source": [
    "Подъитожим.\n",
    "Мы видим, что выбросы есть в параметрах 'score_bki', 'bki_request_cnt','income'."
   ]
  },
  {
   "cell_type": "markdown",
   "metadata": {},
   "source": [
    "Удалим выбросы в признаках 'score_bki' и 'bki_request_cnt','income'. "
   ]
  },
  {
   "cell_type": "code",
   "execution_count": 32,
   "metadata": {},
   "outputs": [],
   "source": [
    "# Удалим выбросы\n",
    "\n",
    "q_low = quant_25_score_bki - 1.5*IQR_score_bki\n",
    "q_hi  = quant_75_score_bki + 1.5*IQR_score_bki\n",
    "\n",
    "train = train[(train['score_bki'] < q_hi) & (train['score_bki'] > q_low)]"
   ]
  },
  {
   "cell_type": "code",
   "execution_count": 33,
   "metadata": {},
   "outputs": [],
   "source": [
    "q_low_brc = quant_25_bki_request_cnt - 1.5*IQR_bki_request_cnt\n",
    "q_hi_brc  = quant_75_bki_request_cnt + 1.5*IQR_bki_request_cnt\n",
    "\n",
    "train = train[(train['bki_request_cnt'] < q_hi_brc) & (train['bki_request_cnt'] > q_low_brc)]"
   ]
  },
  {
   "cell_type": "code",
   "execution_count": 34,
   "metadata": {},
   "outputs": [],
   "source": [
    "q_low_inc = quant_25_income - 1.5*IQR_income\n",
    "q_hi_inc  = quant_75_income + 1.5*IQR_income\n",
    "\n",
    "train = train[(train['income'] < q_hi_inc) & (train['income'] > q_low_brc)]"
   ]
  },
  {
   "cell_type": "code",
   "execution_count": 35,
   "metadata": {},
   "outputs": [
    {
     "data": {
      "text/html": [
       "<div>\n",
       "<style scoped>\n",
       "    .dataframe tbody tr th:only-of-type {\n",
       "        vertical-align: middle;\n",
       "    }\n",
       "\n",
       "    .dataframe tbody tr th {\n",
       "        vertical-align: top;\n",
       "    }\n",
       "\n",
       "    .dataframe thead th {\n",
       "        text-align: right;\n",
       "    }\n",
       "</style>\n",
       "<table border=\"1\" class=\"dataframe\">\n",
       "  <thead>\n",
       "    <tr style=\"text-align: right;\">\n",
       "      <th></th>\n",
       "      <th>client_id</th>\n",
       "      <th>app_date</th>\n",
       "      <th>sex</th>\n",
       "      <th>age</th>\n",
       "      <th>car</th>\n",
       "      <th>car_type</th>\n",
       "      <th>decline_app_cnt</th>\n",
       "      <th>good_work</th>\n",
       "      <th>score_bki</th>\n",
       "      <th>bki_request_cnt</th>\n",
       "      <th>region_rating</th>\n",
       "      <th>home_address</th>\n",
       "      <th>work_address</th>\n",
       "      <th>income</th>\n",
       "      <th>sna</th>\n",
       "      <th>first_time</th>\n",
       "      <th>foreign_passport</th>\n",
       "      <th>default</th>\n",
       "    </tr>\n",
       "  </thead>\n",
       "  <tbody>\n",
       "    <tr>\n",
       "      <th>count</th>\n",
       "      <td>66843.000000</td>\n",
       "      <td>6.684300e+04</td>\n",
       "      <td>66843.000000</td>\n",
       "      <td>66843.000000</td>\n",
       "      <td>66843.000000</td>\n",
       "      <td>66843.00000</td>\n",
       "      <td>66843.000000</td>\n",
       "      <td>66843.000000</td>\n",
       "      <td>66843.000000</td>\n",
       "      <td>66843.000000</td>\n",
       "      <td>66843.000000</td>\n",
       "      <td>66843.000000</td>\n",
       "      <td>66843.000000</td>\n",
       "      <td>66843.000000</td>\n",
       "      <td>66843.000000</td>\n",
       "      <td>66843.000000</td>\n",
       "      <td>66843.000000</td>\n",
       "      <td>66843.000000</td>\n",
       "    </tr>\n",
       "    <tr>\n",
       "      <th>mean</th>\n",
       "      <td>55348.467798</td>\n",
       "      <td>2.014027e+07</td>\n",
       "      <td>0.420478</td>\n",
       "      <td>39.198540</td>\n",
       "      <td>0.298490</td>\n",
       "      <td>0.16078</td>\n",
       "      <td>0.264096</td>\n",
       "      <td>0.163158</td>\n",
       "      <td>-1.912183</td>\n",
       "      <td>1.767261</td>\n",
       "      <td>56.117320</td>\n",
       "      <td>1.570965</td>\n",
       "      <td>2.488428</td>\n",
       "      <td>32149.325060</td>\n",
       "      <td>1.756384</td>\n",
       "      <td>2.739524</td>\n",
       "      <td>0.129512</td>\n",
       "      <td>0.127209</td>\n",
       "    </tr>\n",
       "    <tr>\n",
       "      <th>std</th>\n",
       "      <td>31817.596311</td>\n",
       "      <td>1.077465e+02</td>\n",
       "      <td>0.493639</td>\n",
       "      <td>11.671643</td>\n",
       "      <td>0.457599</td>\n",
       "      <td>0.36733</td>\n",
       "      <td>0.770197</td>\n",
       "      <td>0.369513</td>\n",
       "      <td>0.482597</td>\n",
       "      <td>1.660642</td>\n",
       "      <td>12.780018</td>\n",
       "      <td>0.528561</td>\n",
       "      <td>0.691087</td>\n",
       "      <td>17231.373715</td>\n",
       "      <td>1.136458</td>\n",
       "      <td>1.016072</td>\n",
       "      <td>0.335769</td>\n",
       "      <td>0.333209</td>\n",
       "    </tr>\n",
       "    <tr>\n",
       "      <th>min</th>\n",
       "      <td>1.000000</td>\n",
       "      <td>2.014010e+07</td>\n",
       "      <td>0.000000</td>\n",
       "      <td>21.000000</td>\n",
       "      <td>0.000000</td>\n",
       "      <td>0.00000</td>\n",
       "      <td>0.000000</td>\n",
       "      <td>0.000000</td>\n",
       "      <td>-3.294032</td>\n",
       "      <td>0.000000</td>\n",
       "      <td>20.000000</td>\n",
       "      <td>1.000000</td>\n",
       "      <td>1.000000</td>\n",
       "      <td>1000.000000</td>\n",
       "      <td>1.000000</td>\n",
       "      <td>1.000000</td>\n",
       "      <td>0.000000</td>\n",
       "      <td>0.000000</td>\n",
       "    </tr>\n",
       "    <tr>\n",
       "      <th>25%</th>\n",
       "      <td>27654.500000</td>\n",
       "      <td>2.014020e+07</td>\n",
       "      <td>0.000000</td>\n",
       "      <td>29.000000</td>\n",
       "      <td>0.000000</td>\n",
       "      <td>0.00000</td>\n",
       "      <td>0.000000</td>\n",
       "      <td>0.000000</td>\n",
       "      <td>-2.258132</td>\n",
       "      <td>0.000000</td>\n",
       "      <td>50.000000</td>\n",
       "      <td>1.000000</td>\n",
       "      <td>2.000000</td>\n",
       "      <td>20000.000000</td>\n",
       "      <td>1.000000</td>\n",
       "      <td>2.000000</td>\n",
       "      <td>0.000000</td>\n",
       "      <td>0.000000</td>\n",
       "    </tr>\n",
       "    <tr>\n",
       "      <th>50%</th>\n",
       "      <td>55605.000000</td>\n",
       "      <td>2.014030e+07</td>\n",
       "      <td>0.000000</td>\n",
       "      <td>37.000000</td>\n",
       "      <td>0.000000</td>\n",
       "      <td>0.00000</td>\n",
       "      <td>0.000000</td>\n",
       "      <td>0.000000</td>\n",
       "      <td>-1.924396</td>\n",
       "      <td>1.000000</td>\n",
       "      <td>50.000000</td>\n",
       "      <td>2.000000</td>\n",
       "      <td>3.000000</td>\n",
       "      <td>30000.000000</td>\n",
       "      <td>1.000000</td>\n",
       "      <td>3.000000</td>\n",
       "      <td>0.000000</td>\n",
       "      <td>0.000000</td>\n",
       "    </tr>\n",
       "    <tr>\n",
       "      <th>75%</th>\n",
       "      <td>82915.500000</td>\n",
       "      <td>2.014033e+07</td>\n",
       "      <td>1.000000</td>\n",
       "      <td>48.000000</td>\n",
       "      <td>1.000000</td>\n",
       "      <td>0.00000</td>\n",
       "      <td>0.000000</td>\n",
       "      <td>0.000000</td>\n",
       "      <td>-1.580073</td>\n",
       "      <td>3.000000</td>\n",
       "      <td>60.000000</td>\n",
       "      <td>2.000000</td>\n",
       "      <td>3.000000</td>\n",
       "      <td>40000.000000</td>\n",
       "      <td>2.000000</td>\n",
       "      <td>3.000000</td>\n",
       "      <td>0.000000</td>\n",
       "      <td>0.000000</td>\n",
       "    </tr>\n",
       "    <tr>\n",
       "      <th>max</th>\n",
       "      <td>110147.000000</td>\n",
       "      <td>2.014043e+07</td>\n",
       "      <td>1.000000</td>\n",
       "      <td>72.000000</td>\n",
       "      <td>1.000000</td>\n",
       "      <td>1.00000</td>\n",
       "      <td>33.000000</td>\n",
       "      <td>1.000000</td>\n",
       "      <td>-0.535839</td>\n",
       "      <td>7.000000</td>\n",
       "      <td>80.000000</td>\n",
       "      <td>3.000000</td>\n",
       "      <td>3.000000</td>\n",
       "      <td>89000.000000</td>\n",
       "      <td>4.000000</td>\n",
       "      <td>4.000000</td>\n",
       "      <td>1.000000</td>\n",
       "      <td>1.000000</td>\n",
       "    </tr>\n",
       "  </tbody>\n",
       "</table>\n",
       "</div>"
      ],
      "text/plain": [
       "           client_id      app_date           sex           age           car  \\\n",
       "count   66843.000000  6.684300e+04  66843.000000  66843.000000  66843.000000   \n",
       "mean    55348.467798  2.014027e+07      0.420478     39.198540      0.298490   \n",
       "std     31817.596311  1.077465e+02      0.493639     11.671643      0.457599   \n",
       "min         1.000000  2.014010e+07      0.000000     21.000000      0.000000   \n",
       "25%     27654.500000  2.014020e+07      0.000000     29.000000      0.000000   \n",
       "50%     55605.000000  2.014030e+07      0.000000     37.000000      0.000000   \n",
       "75%     82915.500000  2.014033e+07      1.000000     48.000000      1.000000   \n",
       "max    110147.000000  2.014043e+07      1.000000     72.000000      1.000000   \n",
       "\n",
       "          car_type  decline_app_cnt     good_work     score_bki  \\\n",
       "count  66843.00000     66843.000000  66843.000000  66843.000000   \n",
       "mean       0.16078         0.264096      0.163158     -1.912183   \n",
       "std        0.36733         0.770197      0.369513      0.482597   \n",
       "min        0.00000         0.000000      0.000000     -3.294032   \n",
       "25%        0.00000         0.000000      0.000000     -2.258132   \n",
       "50%        0.00000         0.000000      0.000000     -1.924396   \n",
       "75%        0.00000         0.000000      0.000000     -1.580073   \n",
       "max        1.00000        33.000000      1.000000     -0.535839   \n",
       "\n",
       "       bki_request_cnt  region_rating  home_address  work_address  \\\n",
       "count     66843.000000   66843.000000  66843.000000  66843.000000   \n",
       "mean          1.767261      56.117320      1.570965      2.488428   \n",
       "std           1.660642      12.780018      0.528561      0.691087   \n",
       "min           0.000000      20.000000      1.000000      1.000000   \n",
       "25%           0.000000      50.000000      1.000000      2.000000   \n",
       "50%           1.000000      50.000000      2.000000      3.000000   \n",
       "75%           3.000000      60.000000      2.000000      3.000000   \n",
       "max           7.000000      80.000000      3.000000      3.000000   \n",
       "\n",
       "             income           sna    first_time  foreign_passport  \\\n",
       "count  66843.000000  66843.000000  66843.000000      66843.000000   \n",
       "mean   32149.325060      1.756384      2.739524          0.129512   \n",
       "std    17231.373715      1.136458      1.016072          0.335769   \n",
       "min     1000.000000      1.000000      1.000000          0.000000   \n",
       "25%    20000.000000      1.000000      2.000000          0.000000   \n",
       "50%    30000.000000      1.000000      3.000000          0.000000   \n",
       "75%    40000.000000      2.000000      3.000000          0.000000   \n",
       "max    89000.000000      4.000000      4.000000          1.000000   \n",
       "\n",
       "            default  \n",
       "count  66843.000000  \n",
       "mean       0.127209  \n",
       "std        0.333209  \n",
       "min        0.000000  \n",
       "25%        0.000000  \n",
       "50%        0.000000  \n",
       "75%        0.000000  \n",
       "max        1.000000  "
      ]
     },
     "execution_count": 35,
     "metadata": {},
     "output_type": "execute_result"
    }
   ],
   "source": [
    "train.describe()"
   ]
  },
  {
   "cell_type": "code",
   "execution_count": 36,
   "metadata": {},
   "outputs": [
    {
     "name": "stdout",
     "output_type": "stream",
     "text": [
      "<class 'pandas.core.frame.DataFrame'>\n",
      "Int64Index: 66843 entries, 0 to 73798\n",
      "Data columns (total 19 columns):\n",
      " #   Column            Non-Null Count  Dtype  \n",
      "---  ------            --------------  -----  \n",
      " 0   client_id         66843 non-null  int64  \n",
      " 1   app_date          66843 non-null  int64  \n",
      " 2   education         66843 non-null  object \n",
      " 3   sex               66843 non-null  int64  \n",
      " 4   age               66843 non-null  int64  \n",
      " 5   car               66843 non-null  int64  \n",
      " 6   car_type          66843 non-null  int64  \n",
      " 7   decline_app_cnt   66843 non-null  int64  \n",
      " 8   good_work         66843 non-null  int64  \n",
      " 9   score_bki         66843 non-null  float64\n",
      " 10  bki_request_cnt   66843 non-null  int64  \n",
      " 11  region_rating     66843 non-null  int64  \n",
      " 12  home_address      66843 non-null  int64  \n",
      " 13  work_address      66843 non-null  int64  \n",
      " 14  income            66843 non-null  int64  \n",
      " 15  sna               66843 non-null  int64  \n",
      " 16  first_time        66843 non-null  int64  \n",
      " 17  foreign_passport  66843 non-null  int64  \n",
      " 18  default           66843 non-null  int64  \n",
      "dtypes: float64(1), int64(17), object(1)\n",
      "memory usage: 10.2+ MB\n"
     ]
    }
   ],
   "source": [
    "train.info()"
   ]
  },
  {
   "cell_type": "markdown",
   "metadata": {},
   "source": [
    "Так же после построения графиков распределения стало очевидно, что данные 'age', 'bki_request_cnt', 'income', 'region_rating' нуждаются в нормализации."
   ]
  },
  {
   "cell_type": "code",
   "execution_count": 37,
   "metadata": {},
   "outputs": [],
   "source": [
    "# Используем StandardScaler из библиотеки sklearn\n",
    "\n",
    "from sklearn.preprocessing import StandardScaler\n",
    "\n",
    "scaler = StandardScaler()\n",
    "train[num_cols] = scaler.fit_transform(train[num_cols])"
   ]
  },
  {
   "cell_type": "code",
   "execution_count": 38,
   "metadata": {},
   "outputs": [
    {
     "data": {
      "text/html": [
       "<div>\n",
       "<style scoped>\n",
       "    .dataframe tbody tr th:only-of-type {\n",
       "        vertical-align: middle;\n",
       "    }\n",
       "\n",
       "    .dataframe tbody tr th {\n",
       "        vertical-align: top;\n",
       "    }\n",
       "\n",
       "    .dataframe thead th {\n",
       "        text-align: right;\n",
       "    }\n",
       "</style>\n",
       "<table border=\"1\" class=\"dataframe\">\n",
       "  <thead>\n",
       "    <tr style=\"text-align: right;\">\n",
       "      <th></th>\n",
       "      <th>client_id</th>\n",
       "      <th>app_date</th>\n",
       "      <th>education</th>\n",
       "      <th>sex</th>\n",
       "      <th>age</th>\n",
       "      <th>car</th>\n",
       "      <th>car_type</th>\n",
       "      <th>decline_app_cnt</th>\n",
       "      <th>good_work</th>\n",
       "      <th>score_bki</th>\n",
       "      <th>bki_request_cnt</th>\n",
       "      <th>region_rating</th>\n",
       "      <th>home_address</th>\n",
       "      <th>work_address</th>\n",
       "      <th>income</th>\n",
       "      <th>sna</th>\n",
       "      <th>first_time</th>\n",
       "      <th>foreign_passport</th>\n",
       "      <th>default</th>\n",
       "    </tr>\n",
       "  </thead>\n",
       "  <tbody>\n",
       "    <tr>\n",
       "      <th>0</th>\n",
       "      <td>25905</td>\n",
       "      <td>-0.643737</td>\n",
       "      <td>SCH</td>\n",
       "      <td>1</td>\n",
       "      <td>1.953592</td>\n",
       "      <td>1</td>\n",
       "      <td>1</td>\n",
       "      <td>-0.342897</td>\n",
       "      <td>0</td>\n",
       "      <td>-0.200106</td>\n",
       "      <td>-0.462030</td>\n",
       "      <td>-0.478666</td>\n",
       "      <td>1</td>\n",
       "      <td>2</td>\n",
       "      <td>-0.821144</td>\n",
       "      <td>4</td>\n",
       "      <td>1</td>\n",
       "      <td>0</td>\n",
       "      <td>0</td>\n",
       "    </tr>\n",
       "    <tr>\n",
       "      <th>1</th>\n",
       "      <td>63161</td>\n",
       "      <td>0.386467</td>\n",
       "      <td>SCH</td>\n",
       "      <td>0</td>\n",
       "      <td>1.696557</td>\n",
       "      <td>0</td>\n",
       "      <td>0</td>\n",
       "      <td>-0.342897</td>\n",
       "      <td>0</td>\n",
       "      <td>0.787220</td>\n",
       "      <td>0.742333</td>\n",
       "      <td>-0.478666</td>\n",
       "      <td>2</td>\n",
       "      <td>3</td>\n",
       "      <td>-0.763109</td>\n",
       "      <td>4</td>\n",
       "      <td>1</td>\n",
       "      <td>0</td>\n",
       "      <td>0</td>\n",
       "    </tr>\n",
       "    <tr>\n",
       "      <th>2</th>\n",
       "      <td>25887</td>\n",
       "      <td>-0.643737</td>\n",
       "      <td>SCH</td>\n",
       "      <td>1</td>\n",
       "      <td>-1.216508</td>\n",
       "      <td>1</td>\n",
       "      <td>0</td>\n",
       "      <td>2.253860</td>\n",
       "      <td>0</td>\n",
       "      <td>1.044443</td>\n",
       "      <td>-0.462030</td>\n",
       "      <td>1.868766</td>\n",
       "      <td>1</td>\n",
       "      <td>2</td>\n",
       "      <td>-0.124734</td>\n",
       "      <td>1</td>\n",
       "      <td>4</td>\n",
       "      <td>1</td>\n",
       "      <td>0</td>\n",
       "    </tr>\n",
       "    <tr>\n",
       "      <th>3</th>\n",
       "      <td>16222</td>\n",
       "      <td>-1.367664</td>\n",
       "      <td>SCH</td>\n",
       "      <td>0</td>\n",
       "      <td>1.182487</td>\n",
       "      <td>0</td>\n",
       "      <td>0</td>\n",
       "      <td>-0.342897</td>\n",
       "      <td>0</td>\n",
       "      <td>-0.301057</td>\n",
       "      <td>0.140151</td>\n",
       "      <td>-0.478666</td>\n",
       "      <td>2</td>\n",
       "      <td>3</td>\n",
       "      <td>-1.285416</td>\n",
       "      <td>1</td>\n",
       "      <td>3</td>\n",
       "      <td>0</td>\n",
       "      <td>0</td>\n",
       "    </tr>\n",
       "    <tr>\n",
       "      <th>4</th>\n",
       "      <td>101655</td>\n",
       "      <td>1.370265</td>\n",
       "      <td>GRD</td>\n",
       "      <td>1</td>\n",
       "      <td>0.754095</td>\n",
       "      <td>0</td>\n",
       "      <td>0</td>\n",
       "      <td>-0.342897</td>\n",
       "      <td>1</td>\n",
       "      <td>1.383071</td>\n",
       "      <td>-0.462030</td>\n",
       "      <td>0.303811</td>\n",
       "      <td>2</td>\n",
       "      <td>3</td>\n",
       "      <td>-0.124734</td>\n",
       "      <td>1</td>\n",
       "      <td>4</td>\n",
       "      <td>1</td>\n",
       "      <td>0</td>\n",
       "    </tr>\n",
       "  </tbody>\n",
       "</table>\n",
       "</div>"
      ],
      "text/plain": [
       "   client_id  app_date education  sex       age  car  car_type  \\\n",
       "0      25905 -0.643737       SCH    1  1.953592    1         1   \n",
       "1      63161  0.386467       SCH    0  1.696557    0         0   \n",
       "2      25887 -0.643737       SCH    1 -1.216508    1         0   \n",
       "3      16222 -1.367664       SCH    0  1.182487    0         0   \n",
       "4     101655  1.370265       GRD    1  0.754095    0         0   \n",
       "\n",
       "   decline_app_cnt  good_work  score_bki  bki_request_cnt  region_rating  \\\n",
       "0        -0.342897          0  -0.200106        -0.462030      -0.478666   \n",
       "1        -0.342897          0   0.787220         0.742333      -0.478666   \n",
       "2         2.253860          0   1.044443        -0.462030       1.868766   \n",
       "3        -0.342897          0  -0.301057         0.140151      -0.478666   \n",
       "4        -0.342897          1   1.383071        -0.462030       0.303811   \n",
       "\n",
       "   home_address  work_address    income  sna  first_time  foreign_passport  \\\n",
       "0             1             2 -0.821144    4           1                 0   \n",
       "1             2             3 -0.763109    4           1                 0   \n",
       "2             1             2 -0.124734    1           4                 1   \n",
       "3             2             3 -1.285416    1           3                 0   \n",
       "4             2             3 -0.124734    1           4                 1   \n",
       "\n",
       "   default  \n",
       "0        0  \n",
       "1        0  \n",
       "2        0  \n",
       "3        0  \n",
       "4        0  "
      ]
     },
     "execution_count": 38,
     "metadata": {},
     "output_type": "execute_result"
    }
   ],
   "source": [
    "train.head()"
   ]
  },
  {
   "cell_type": "markdown",
   "metadata": {},
   "source": [
    "## Потом выбрать что оставить - написать что и почему выбрала"
   ]
  },
  {
   "cell_type": "markdown",
   "metadata": {},
   "source": [
    "Проведем корреляционный анализ, что бы отобрать низко коррелируемые признаки."
   ]
  },
  {
   "cell_type": "code",
   "execution_count": 39,
   "metadata": {},
   "outputs": [
    {
     "data": {
      "text/plain": [
       "<AxesSubplot:>"
      ]
     },
     "execution_count": 39,
     "metadata": {},
     "output_type": "execute_result"
    },
    {
     "data": {
      "image/png": "[encoded data removed]",
      "text/plain": [
       "<Figure size 432x288 with 2 Axes>"
      ]
     },
     "metadata": {
      "needs_background": "light"
     },
     "output_type": "display_data"
    }
   ],
   "source": [
    "plt.figure()\n",
    "sns.heatmap((train[['age', 'decline_app_cnt', 'bki_request_cnt', 'income', 'score_bki', 'region_rating', 'app_date','default']]).corr())"
   ]
  },
  {
   "cell_type": "code",
   "execution_count": 40,
   "metadata": {},
   "outputs": [
    {
     "data": {
      "text/html": [
       "<div>\n",
       "<style scoped>\n",
       "    .dataframe tbody tr th:only-of-type {\n",
       "        vertical-align: middle;\n",
       "    }\n",
       "\n",
       "    .dataframe tbody tr th {\n",
       "        vertical-align: top;\n",
       "    }\n",
       "\n",
       "    .dataframe thead th {\n",
       "        text-align: right;\n",
       "    }\n",
       "</style>\n",
       "<table border=\"1\" class=\"dataframe\">\n",
       "  <thead>\n",
       "    <tr style=\"text-align: right;\">\n",
       "      <th></th>\n",
       "      <th>age</th>\n",
       "      <th>decline_app_cnt</th>\n",
       "      <th>bki_request_cnt</th>\n",
       "      <th>income</th>\n",
       "      <th>score_bki</th>\n",
       "      <th>region_rating</th>\n",
       "      <th>app_date</th>\n",
       "      <th>default</th>\n",
       "    </tr>\n",
       "  </thead>\n",
       "  <tbody>\n",
       "    <tr>\n",
       "      <th>age</th>\n",
       "      <td>1.000000</td>\n",
       "      <td>-0.118567</td>\n",
       "      <td>0.045459</td>\n",
       "      <td>-0.127521</td>\n",
       "      <td>-0.114867</td>\n",
       "      <td>-0.093393</td>\n",
       "      <td>0.015174</td>\n",
       "      <td>-0.028325</td>\n",
       "    </tr>\n",
       "    <tr>\n",
       "      <th>decline_app_cnt</th>\n",
       "      <td>-0.118567</td>\n",
       "      <td>1.000000</td>\n",
       "      <td>0.076820</td>\n",
       "      <td>-0.004338</td>\n",
       "      <td>0.176522</td>\n",
       "      <td>-0.030533</td>\n",
       "      <td>-0.017059</td>\n",
       "      <td>0.109093</td>\n",
       "    </tr>\n",
       "    <tr>\n",
       "      <th>bki_request_cnt</th>\n",
       "      <td>0.045459</td>\n",
       "      <td>0.076820</td>\n",
       "      <td>1.000000</td>\n",
       "      <td>0.055830</td>\n",
       "      <td>0.115112</td>\n",
       "      <td>-0.017301</td>\n",
       "      <td>-0.010472</td>\n",
       "      <td>0.062806</td>\n",
       "    </tr>\n",
       "    <tr>\n",
       "      <th>income</th>\n",
       "      <td>-0.127521</td>\n",
       "      <td>-0.004338</td>\n",
       "      <td>0.055830</td>\n",
       "      <td>1.000000</td>\n",
       "      <td>0.013259</td>\n",
       "      <td>0.308763</td>\n",
       "      <td>0.002778</td>\n",
       "      <td>-0.054887</td>\n",
       "    </tr>\n",
       "    <tr>\n",
       "      <th>score_bki</th>\n",
       "      <td>-0.114867</td>\n",
       "      <td>0.176522</td>\n",
       "      <td>0.115112</td>\n",
       "      <td>0.013259</td>\n",
       "      <td>1.000000</td>\n",
       "      <td>0.018412</td>\n",
       "      <td>-0.062264</td>\n",
       "      <td>0.167122</td>\n",
       "    </tr>\n",
       "    <tr>\n",
       "      <th>region_rating</th>\n",
       "      <td>-0.093393</td>\n",
       "      <td>-0.030533</td>\n",
       "      <td>-0.017301</td>\n",
       "      <td>0.308763</td>\n",
       "      <td>0.018412</td>\n",
       "      <td>1.000000</td>\n",
       "      <td>0.005492</td>\n",
       "      <td>-0.081912</td>\n",
       "    </tr>\n",
       "    <tr>\n",
       "      <th>app_date</th>\n",
       "      <td>0.015174</td>\n",
       "      <td>-0.017059</td>\n",
       "      <td>-0.010472</td>\n",
       "      <td>0.002778</td>\n",
       "      <td>-0.062264</td>\n",
       "      <td>0.005492</td>\n",
       "      <td>1.000000</td>\n",
       "      <td>-0.037417</td>\n",
       "    </tr>\n",
       "    <tr>\n",
       "      <th>default</th>\n",
       "      <td>-0.028325</td>\n",
       "      <td>0.109093</td>\n",
       "      <td>0.062806</td>\n",
       "      <td>-0.054887</td>\n",
       "      <td>0.167122</td>\n",
       "      <td>-0.081912</td>\n",
       "      <td>-0.037417</td>\n",
       "      <td>1.000000</td>\n",
       "    </tr>\n",
       "  </tbody>\n",
       "</table>\n",
       "</div>"
      ],
      "text/plain": [
       "                      age  decline_app_cnt  bki_request_cnt    income  \\\n",
       "age              1.000000        -0.118567         0.045459 -0.127521   \n",
       "decline_app_cnt -0.118567         1.000000         0.076820 -0.004338   \n",
       "bki_request_cnt  0.045459         0.076820         1.000000  0.055830   \n",
       "income          -0.127521        -0.004338         0.055830  1.000000   \n",
       "score_bki       -0.114867         0.176522         0.115112  0.013259   \n",
       "region_rating   -0.093393        -0.030533        -0.017301  0.308763   \n",
       "app_date         0.015174        -0.017059        -0.010472  0.002778   \n",
       "default         -0.028325         0.109093         0.062806 -0.054887   \n",
       "\n",
       "                 score_bki  region_rating  app_date   default  \n",
       "age              -0.114867      -0.093393  0.015174 -0.028325  \n",
       "decline_app_cnt   0.176522      -0.030533 -0.017059  0.109093  \n",
       "bki_request_cnt   0.115112      -0.017301 -0.010472  0.062806  \n",
       "income            0.013259       0.308763  0.002778 -0.054887  \n",
       "score_bki         1.000000       0.018412 -0.062264  0.167122  \n",
       "region_rating     0.018412       1.000000  0.005492 -0.081912  \n",
       "app_date         -0.062264       0.005492  1.000000 -0.037417  \n",
       "default           0.167122      -0.081912 -0.037417  1.000000  "
      ]
     },
     "execution_count": 40,
     "metadata": {},
     "output_type": "execute_result"
    }
   ],
   "source": [
    "train[['age', 'decline_app_cnt', 'bki_request_cnt', 'income', 'score_bki', 'region_rating','app_date', 'default']].corr()"
   ]
  },
  {
   "cell_type": "markdown",
   "metadata": {},
   "source": [
    "Оценим значимость числовых переменных с использованием функции f_classif из библиотеки sklearn."
   ]
  },
  {
   "cell_type": "code",
   "execution_count": 41,
   "metadata": {},
   "outputs": [
    {
     "data": {
      "text/plain": [
       "<AxesSubplot:>"
      ]
     },
     "execution_count": 41,
     "metadata": {},
     "output_type": "execute_result"
    },
    {
     "data": {
      "image/png": "[encoded data removed]",
      "text/plain": [
       "<Figure size 432x288 with 1 Axes>"
      ]
     },
     "metadata": {
      "needs_background": "light"
     },
     "output_type": "display_data"
    }
   ],
   "source": [
    "imp_num = Series(f_classif(train[num_cols], train['default'])[0], index = num_cols)\n",
    "imp_num.sort_values(inplace = True)\n",
    "imp_num.plot(kind = 'barh')"
   ]
  },
  {
   "cell_type": "markdown",
   "metadata": {},
   "source": [
    "Чем значение статистики выше, тем меньше вероятность того, что средние значения не отличаются, и тем важнее данный признак для нашей линейной модели."
   ]
  },
  {
   "cell_type": "markdown",
   "metadata": {},
   "source": [
    "Изучим переменную, которую будем предстказывать.\n",
    "Она содержит данные 0 - нет дефолта или 1 - дефолт клиента."
   ]
  },
  {
   "cell_type": "code",
   "execution_count": 42,
   "metadata": {},
   "outputs": [
    {
     "data": {
      "image/png": "[encoded data removed]",
      "text/plain": [
       "<Figure size 432x288 with 1 Axes>"
      ]
     },
     "metadata": {
      "needs_background": "light"
     },
     "output_type": "display_data"
    }
   ],
   "source": [
    "# Постройте диаграмму для переменной default. Каких клиентов у банка больше?\n",
    "\n",
    "patches = plt.hist(train.default, bins=2)\n",
    "plt.show()"
   ]
  },
  {
   "cell_type": "markdown",
   "metadata": {},
   "source": [
    "Мы видим, что данных о клиентах без дефолта намного больше, чем данных о клиентах с дефолтом. Это может привести к дисбалансу, при котором распределение целевых значений будет сильно отличаться от равномерного."
   ]
  },
  {
   "cell_type": "markdown",
   "metadata": {},
   "source": [
    "Сократим количество объектов превалирующих классов с помощью - undersampling"
   ]
  },
  {
   "cell_type": "code",
   "execution_count": 43,
   "metadata": {},
   "outputs": [],
   "source": [
    "num_0 = len(train[train['default']==0])\n",
    "num_1 = len(train[train['default']==1])\n",
    "undersampled_train = pd.concat([train[train['default']==0].sample(num_1),\n",
    "                               train[train['default']==1]])"
   ]
  },
  {
   "cell_type": "code",
   "execution_count": 44,
   "metadata": {},
   "outputs": [
    {
     "data": {
      "text/html": [
       "<div>\n",
       "<style scoped>\n",
       "    .dataframe tbody tr th:only-of-type {\n",
       "        vertical-align: middle;\n",
       "    }\n",
       "\n",
       "    .dataframe tbody tr th {\n",
       "        vertical-align: top;\n",
       "    }\n",
       "\n",
       "    .dataframe thead th {\n",
       "        text-align: right;\n",
       "    }\n",
       "</style>\n",
       "<table border=\"1\" class=\"dataframe\">\n",
       "  <thead>\n",
       "    <tr style=\"text-align: right;\">\n",
       "      <th></th>\n",
       "      <th>client_id</th>\n",
       "      <th>app_date</th>\n",
       "      <th>education</th>\n",
       "      <th>sex</th>\n",
       "      <th>age</th>\n",
       "      <th>car</th>\n",
       "      <th>car_type</th>\n",
       "      <th>decline_app_cnt</th>\n",
       "      <th>good_work</th>\n",
       "      <th>score_bki</th>\n",
       "      <th>bki_request_cnt</th>\n",
       "      <th>region_rating</th>\n",
       "      <th>home_address</th>\n",
       "      <th>work_address</th>\n",
       "      <th>income</th>\n",
       "      <th>sna</th>\n",
       "      <th>first_time</th>\n",
       "      <th>foreign_passport</th>\n",
       "      <th>default</th>\n",
       "    </tr>\n",
       "  </thead>\n",
       "  <tbody>\n",
       "    <tr>\n",
       "      <th>71809</th>\n",
       "      <td>44570</td>\n",
       "      <td>-0.458114</td>\n",
       "      <td>SCH</td>\n",
       "      <td>0</td>\n",
       "      <td>1.011130</td>\n",
       "      <td>0</td>\n",
       "      <td>0</td>\n",
       "      <td>-0.342897</td>\n",
       "      <td>0</td>\n",
       "      <td>-0.913541</td>\n",
       "      <td>0.140151</td>\n",
       "      <td>0.303811</td>\n",
       "      <td>2</td>\n",
       "      <td>3</td>\n",
       "      <td>-0.414905</td>\n",
       "      <td>4</td>\n",
       "      <td>3</td>\n",
       "      <td>0</td>\n",
       "      <td>0</td>\n",
       "    </tr>\n",
       "    <tr>\n",
       "      <th>18358</th>\n",
       "      <td>80958</td>\n",
       "      <td>0.534965</td>\n",
       "      <td>UGR</td>\n",
       "      <td>1</td>\n",
       "      <td>1.096808</td>\n",
       "      <td>1</td>\n",
       "      <td>0</td>\n",
       "      <td>-0.342897</td>\n",
       "      <td>0</td>\n",
       "      <td>-0.648207</td>\n",
       "      <td>-0.462030</td>\n",
       "      <td>-0.478666</td>\n",
       "      <td>1</td>\n",
       "      <td>1</td>\n",
       "      <td>-0.124734</td>\n",
       "      <td>1</td>\n",
       "      <td>3</td>\n",
       "      <td>0</td>\n",
       "      <td>0</td>\n",
       "    </tr>\n",
       "    <tr>\n",
       "      <th>49528</th>\n",
       "      <td>53710</td>\n",
       "      <td>0.302937</td>\n",
       "      <td>SCH</td>\n",
       "      <td>0</td>\n",
       "      <td>0.754095</td>\n",
       "      <td>0</td>\n",
       "      <td>0</td>\n",
       "      <td>-0.342897</td>\n",
       "      <td>0</td>\n",
       "      <td>-0.926209</td>\n",
       "      <td>-0.462030</td>\n",
       "      <td>-1.261144</td>\n",
       "      <td>1</td>\n",
       "      <td>2</td>\n",
       "      <td>-0.995246</td>\n",
       "      <td>1</td>\n",
       "      <td>3</td>\n",
       "      <td>0</td>\n",
       "      <td>0</td>\n",
       "    </tr>\n",
       "    <tr>\n",
       "      <th>43249</th>\n",
       "      <td>36328</td>\n",
       "      <td>-0.541644</td>\n",
       "      <td>SCH</td>\n",
       "      <td>1</td>\n",
       "      <td>-1.045151</td>\n",
       "      <td>1</td>\n",
       "      <td>1</td>\n",
       "      <td>-0.342897</td>\n",
       "      <td>0</td>\n",
       "      <td>0.703351</td>\n",
       "      <td>1.344514</td>\n",
       "      <td>1.868766</td>\n",
       "      <td>2</td>\n",
       "      <td>3</td>\n",
       "      <td>1.616289</td>\n",
       "      <td>4</td>\n",
       "      <td>3</td>\n",
       "      <td>0</td>\n",
       "      <td>0</td>\n",
       "    </tr>\n",
       "    <tr>\n",
       "      <th>23072</th>\n",
       "      <td>105763</td>\n",
       "      <td>1.425952</td>\n",
       "      <td>PGR</td>\n",
       "      <td>0</td>\n",
       "      <td>-1.045151</td>\n",
       "      <td>1</td>\n",
       "      <td>1</td>\n",
       "      <td>0.955482</td>\n",
       "      <td>1</td>\n",
       "      <td>0.503797</td>\n",
       "      <td>-0.462030</td>\n",
       "      <td>0.303811</td>\n",
       "      <td>1</td>\n",
       "      <td>2</td>\n",
       "      <td>-0.414905</td>\n",
       "      <td>1</td>\n",
       "      <td>3</td>\n",
       "      <td>1</td>\n",
       "      <td>0</td>\n",
       "    </tr>\n",
       "  </tbody>\n",
       "</table>\n",
       "</div>"
      ],
      "text/plain": [
       "       client_id  app_date education  sex       age  car  car_type  \\\n",
       "71809      44570 -0.458114       SCH    0  1.011130    0         0   \n",
       "18358      80958  0.534965       UGR    1  1.096808    1         0   \n",
       "49528      53710  0.302937       SCH    0  0.754095    0         0   \n",
       "43249      36328 -0.541644       SCH    1 -1.045151    1         1   \n",
       "23072     105763  1.425952       PGR    0 -1.045151    1         1   \n",
       "\n",
       "       decline_app_cnt  good_work  score_bki  bki_request_cnt  region_rating  \\\n",
       "71809        -0.342897          0  -0.913541         0.140151       0.303811   \n",
       "18358        -0.342897          0  -0.648207        -0.462030      -0.478666   \n",
       "49528        -0.342897          0  -0.926209        -0.462030      -1.261144   \n",
       "43249        -0.342897          0   0.703351         1.344514       1.868766   \n",
       "23072         0.955482          1   0.503797        -0.462030       0.303811   \n",
       "\n",
       "       home_address  work_address    income  sna  first_time  \\\n",
       "71809             2             3 -0.414905    4           3   \n",
       "18358             1             1 -0.124734    1           3   \n",
       "49528             1             2 -0.995246    1           3   \n",
       "43249             2             3  1.616289    4           3   \n",
       "23072             1             2 -0.414905    1           3   \n",
       "\n",
       "       foreign_passport  default  \n",
       "71809                 0        0  \n",
       "18358                 0        0  \n",
       "49528                 0        0  \n",
       "43249                 0        0  \n",
       "23072                 1        0  "
      ]
     },
     "execution_count": 44,
     "metadata": {},
     "output_type": "execute_result"
    }
   ],
   "source": [
    "undersampled_train.head() # Посмотрим новые данные"
   ]
  },
  {
   "cell_type": "code",
   "execution_count": 45,
   "metadata": {
    "scrolled": true
   },
   "outputs": [
    {
     "data": {
      "image/png": "[encoded data removed]",
      "text/plain": [
       "<Figure size 432x288 with 1 Axes>"
      ]
     },
     "metadata": {
      "needs_background": "light"
     },
     "output_type": "display_data"
    }
   ],
   "source": [
    "# Проверим, что получилось\n",
    "\n",
    "patches = plt.hist(undersampled_train.default, bins=2)\n",
    "plt.show()"
   ]
  },
  {
   "cell_type": "code",
   "execution_count": 46,
   "metadata": {},
   "outputs": [],
   "source": [
    "# Обновим X_cat для сбалансированных данных\n",
    "\n",
    "X_cat = OneHotEncoder(sparse = False).fit_transform(undersampled_train[cat_cols].values)"
   ]
  },
  {
   "cell_type": "code",
   "execution_count": 47,
   "metadata": {},
   "outputs": [
    {
     "data": {
      "text/plain": [
       "array([[0., 0., 0., ..., 0., 1., 0.],\n",
       "       [0., 0., 0., ..., 0., 1., 0.],\n",
       "       [0., 0., 0., ..., 0., 1., 0.],\n",
       "       ...,\n",
       "       [0., 0., 0., ..., 0., 0., 1.],\n",
       "       [0., 1., 0., ..., 0., 1., 0.],\n",
       "       [0., 0., 0., ..., 0., 1., 0.]])"
      ]
     },
     "execution_count": 47,
     "metadata": {},
     "output_type": "execute_result"
    }
   ],
   "source": [
    "X_cat"
   ]
  },
  {
   "cell_type": "code",
   "execution_count": 49,
   "metadata": {},
   "outputs": [],
   "source": [
    "# Объединяем\n",
    "## Исключила из модели параметр bki_request_cnt, т.к. без него модель показывает лучший результат.\n",
    "\n",
    "X = np.hstack([ undersampled_train[['app_date', 'age', 'decline_app_cnt', 'income', 'score_bki', \n",
    "                       'region_rating', 'sex', 'car', 'car_type', 'good_work', \n",
    "                       'foreign_passport']].values, X_cat])\n",
    "y = undersampled_train['default'].values"
   ]
  },
  {
   "cell_type": "code",
   "execution_count": 50,
   "metadata": {},
   "outputs": [],
   "source": [
    "# Разделим данные для обучения.\n",
    "\n",
    "X_train, X_test, y_train, y_test = train_test_split(X, y, test_size=0.20, random_state=42)"
   ]
  },
  {
   "cell_type": "code",
   "execution_count": 52,
   "metadata": {},
   "outputs": [],
   "source": [
    "# Обучим модель LogisticRegression\n",
    "\n",
    "model = LogisticRegression(random_state=42, solver='lbfgs', max_iter=400)\n",
    "model.fit(X_train, y_train)\n",
    "y_pred = model.predict(X_test)"
   ]
  },
  {
   "cell_type": "code",
   "execution_count": 53,
   "metadata": {
    "scrolled": false
   },
   "outputs": [
    {
     "data": {
      "image/png": "[encoded data removed]",
      "text/plain": [
       "<Figure size 432x288 with 1 Axes>"
      ]
     },
     "metadata": {
      "needs_background": "light"
     },
     "output_type": "display_data"
    }
   ],
   "source": [
    "# В качестве метода оценки прогностической способности модели используем ROC-анализ.\n",
    "\n",
    "probs = model.predict_proba(X_test)\n",
    "probs = probs[:,1]\n",
    "\n",
    "\n",
    "fpr, tpr, threshold = roc_curve(y_test, probs)\n",
    "roc_auc = roc_auc_score(y_test, probs)\n",
    "\n",
    "plt.figure()\n",
    "plt.plot([0, 1], label='Baseline', linestyle='--')\n",
    "plt.plot(fpr, tpr, label = 'Regression')\n",
    "plt.title('Logistic Regression ROC AUC = %0.3f' % roc_auc)\n",
    "plt.ylabel('True Positive Rate')\n",
    "plt.xlabel('False Positive Rate')\n",
    "plt.legend(loc = 'lower right')\n",
    "plt.show()"
   ]
  },
  {
   "cell_type": "code",
   "execution_count": 54,
   "metadata": {},
   "outputs": [
    {
     "data": {
      "text/plain": [
       "{'C': 3.34431505414951, 'penalty': 'l2'}"
      ]
     },
     "execution_count": 54,
     "metadata": {},
     "output_type": "execute_result"
    }
   ],
   "source": [
    "from sklearn.model_selection import RandomizedSearchCV\n",
    "from scipy.stats import uniform\n",
    "\n",
    "logistic = LogisticRegression(solver='saga', tol=1e-2, max_iter=200, random_state=0)\n",
    "distributions = dict(C=uniform(loc=0, scale=4), penalty=['l2', 'l1'])\n",
    "clf = RandomizedSearchCV(logistic, distributions, random_state=0)\n",
    "search = clf.fit(X_train, y_train)\n",
    "\n",
    "search.best_params_"
   ]
  },
  {
   "cell_type": "code",
   "execution_count": 55,
   "metadata": {},
   "outputs": [],
   "source": [
    "y_predicted = search.predict(X_test)"
   ]
  },
  {
   "cell_type": "code",
   "execution_count": 56,
   "metadata": {
    "scrolled": true
   },
   "outputs": [
    {
     "data": {
      "image/png": "[encoded data removed]",
      "text/plain": [
       "<Figure size 432x288 with 1 Axes>"
      ]
     },
     "metadata": {
      "needs_background": "light"
     },
     "output_type": "display_data"
    }
   ],
   "source": [
    "probss = search.predict_proba(X_test)\n",
    "probss = probss[:,1]\n",
    "\n",
    "\n",
    "fpr, tpr, threshold = roc_curve(y_test, probss)\n",
    "roc_auc = roc_auc_score(y_test, probss)\n",
    "\n",
    "plt.figure()\n",
    "plt.plot([0, 1], label='Baseline', linestyle='--')\n",
    "plt.plot(fpr, tpr, label = 'Regression')\n",
    "plt.title('Logistic Regression ROC AUC = %0.3f' % roc_auc)\n",
    "plt.ylabel('True Positive Rate')\n",
    "plt.xlabel('False Positive Rate')\n",
    "plt.legend(loc = 'lower right')\n",
    "plt.show()"
   ]
  },
  {
   "cell_type": "markdown",
   "metadata": {},
   "source": [
    "Посмотрим результат работы моделей на матрице ошибок."
   ]
  },
  {
   "cell_type": "code",
   "execution_count": 57,
   "metadata": {},
   "outputs": [
    {
     "data": {
      "text/plain": [
       "array([[1111,  574],\n",
       "       [ 589, 1128]])"
      ]
     },
     "execution_count": 57,
     "metadata": {},
     "output_type": "execute_result"
    }
   ],
   "source": [
    "from sklearn.metrics import confusion_matrix\n",
    "confusion_matrix(y_test,y_pred)"
   ]
  },
  {
   "cell_type": "code",
   "execution_count": 58,
   "metadata": {},
   "outputs": [
    {
     "data": {
      "text/plain": [
       "array([[1109,  576],\n",
       "       [ 585, 1132]])"
      ]
     },
     "execution_count": 58,
     "metadata": {},
     "output_type": "execute_result"
    }
   ],
   "source": [
    "from sklearn.metrics import confusion_matrix\n",
    "confusion_matrix(y_test,y_predicted)"
   ]
  },
  {
   "cell_type": "markdown",
   "metadata": {},
   "source": [
    "https://www.kaggle.com/alexandrasokolova/alexandra-sokolova-sf-dst-credit-scoring"
   ]
  }
 ],
 "metadata": {
  "kernelspec": {
   "display_name": "Python 3",
   "language": "python",
   "name": "python3"
  },
  "language_info": {
   "codemirror_mode": {
    "name": "ipython",
    "version": 3
   },
   "file_extension": ".py",
   "mimetype": "text/x-python",
   "name": "python",
   "nbconvert_exporter": "python",
   "pygments_lexer": "ipython3",
   "version": "3.8.5"
  }
 },
 "nbformat": 4,
 "nbformat_minor": 4
}
