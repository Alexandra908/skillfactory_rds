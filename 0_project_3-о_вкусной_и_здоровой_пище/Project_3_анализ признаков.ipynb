{
 "cells": [
  {
   "cell_type": "code",
   "execution_count": 1,
   "metadata": {},
   "outputs": [],
   "source": [
    "import numpy as np\n",
    "import pandas as pd\n",
    "\n",
    "import seaborn as sns\n",
    "import pandas_profiling\n",
    "from itertools import combinations\n",
    "from scipy.stats import ttest_ind\n",
    "from collections import Counter\n",
    "import re\n",
    "\n",
    "import matplotlib.pyplot as plt\n",
    "%matplotlib inline\n",
    "\n",
    "%matplotlib inline\n",
    "sns.set(style=\"whitegrid\")\n",
    "\n",
    "pd.set_option('display.max_rows', 50)  # показывать больше строк\n",
    "pd.set_option('display.max_columns', 50)  # показывать больше колонок"
   ]
  },
  {
   "cell_type": "code",
   "execution_count": 2,
   "metadata": {},
   "outputs": [],
   "source": [
    "# Загрузим файл содержащий сведения о ресторанах Европы.\n",
    "main_task = pd.read_csv('main_task.csv')"
   ]
  },
  {
   "cell_type": "code",
   "execution_count": 3,
   "metadata": {},
   "outputs": [
    {
     "data": {
      "text/plain": [
       "Index(['Restaurant_id', 'City', 'Cuisine Style', 'Ranking', 'Rating',\n",
       "       'Price Range', 'Number of Reviews', 'Reviews', 'URL_TA', 'ID_TA'],\n",
       "      dtype='object')"
      ]
     },
     "execution_count": 3,
     "metadata": {},
     "output_type": "execute_result"
    }
   ],
   "source": [
    "# Посмотрим названия колонок и при необходимости переименуем их для удобства в работе\n",
    "main_task.columns"
   ]
  },
  {
   "cell_type": "code",
   "execution_count": 4,
   "metadata": {},
   "outputs": [],
   "source": [
    "main_task.columns = ['Restaurant_id', 'City', 'Cuisine_Style', 'Ranking', 'Rating',\n",
    "                     'Price_Range', 'Number_of_Reviews', 'Reviews', 'URL_TA', 'ID_TA']"
   ]
  },
  {
   "cell_type": "code",
   "execution_count": 5,
   "metadata": {},
   "outputs": [
    {
     "data": {
      "text/plain": [
       "Restaurant_id            0\n",
       "City                     0\n",
       "Cuisine_Style         9283\n",
       "Ranking                  0\n",
       "Rating                   0\n",
       "Price_Range          13886\n",
       "Number_of_Reviews     2543\n",
       "Reviews                  0\n",
       "URL_TA                   0\n",
       "ID_TA                    0\n",
       "dtype: int64"
      ]
     },
     "execution_count": 5,
     "metadata": {},
     "output_type": "execute_result"
    }
   ],
   "source": [
    "# Посмотрим какие признаки содержат пропуски в данных\n",
    "main_task.isnull().sum()"
   ]
  },
  {
   "cell_type": "code",
   "execution_count": 6,
   "metadata": {},
   "outputs": [
    {
     "data": {
      "text/plain": [
       "<AxesSubplot:>"
      ]
     },
     "execution_count": 6,
     "metadata": {},
     "output_type": "execute_result"
    },
    {
     "data": {
      "image/png": "[encoded data removed]",
      "text/plain": [
       "<Figure size 432x288 with 1 Axes>"
      ]
     },
     "metadata": {},
     "output_type": "display_data"
    }
   ],
   "source": [
    "main_task.isnull().sum().plot.bar()"
   ]
  },
  {
   "cell_type": "markdown",
   "metadata": {},
   "source": [
    "Рассмотрим данные подробно:"
   ]
  },
  {
   "cell_type": "code",
   "execution_count": 7,
   "metadata": {},
   "outputs": [
    {
     "name": "stdout",
     "output_type": "stream",
     "text": [
      "<class 'pandas.core.frame.DataFrame'>\n",
      "RangeIndex: 40000 entries, 0 to 39999\n",
      "Data columns (total 10 columns):\n",
      " #   Column             Non-Null Count  Dtype  \n",
      "---  ------             --------------  -----  \n",
      " 0   Restaurant_id      40000 non-null  object \n",
      " 1   City               40000 non-null  object \n",
      " 2   Cuisine_Style      30717 non-null  object \n",
      " 3   Ranking            40000 non-null  float64\n",
      " 4   Rating             40000 non-null  float64\n",
      " 5   Price_Range        26114 non-null  object \n",
      " 6   Number_of_Reviews  37457 non-null  float64\n",
      " 7   Reviews            40000 non-null  object \n",
      " 8   URL_TA             40000 non-null  object \n",
      " 9   ID_TA              40000 non-null  object \n",
      "dtypes: float64(3), object(7)\n",
      "memory usage: 3.1+ MB\n"
     ]
    }
   ],
   "source": [
    "main_task.info()"
   ]
  },
  {
   "cell_type": "code",
   "execution_count": 8,
   "metadata": {},
   "outputs": [
    {
     "data": {
      "text/html": [
       "<div>\n",
       "<style scoped>\n",
       "    .dataframe tbody tr th:only-of-type {\n",
       "        vertical-align: middle;\n",
       "    }\n",
       "\n",
       "    .dataframe tbody tr th {\n",
       "        vertical-align: top;\n",
       "    }\n",
       "\n",
       "    .dataframe thead th {\n",
       "        text-align: right;\n",
       "    }\n",
       "</style>\n",
       "<table border=\"1\" class=\"dataframe\">\n",
       "  <thead>\n",
       "    <tr style=\"text-align: right;\">\n",
       "      <th></th>\n",
       "      <th>Restaurant_id</th>\n",
       "      <th>City</th>\n",
       "      <th>Cuisine_Style</th>\n",
       "      <th>Ranking</th>\n",
       "      <th>Rating</th>\n",
       "      <th>Price_Range</th>\n",
       "      <th>Number_of_Reviews</th>\n",
       "      <th>Reviews</th>\n",
       "      <th>URL_TA</th>\n",
       "      <th>ID_TA</th>\n",
       "    </tr>\n",
       "  </thead>\n",
       "  <tbody>\n",
       "    <tr>\n",
       "      <th>0</th>\n",
       "      <td>id_5569</td>\n",
       "      <td>Paris</td>\n",
       "      <td>['European', 'French', 'International']</td>\n",
       "      <td>5570.0</td>\n",
       "      <td>3.5</td>\n",
       "      <td>$$ - $$$</td>\n",
       "      <td>194.0</td>\n",
       "      <td>[['Good food at your doorstep', 'A good hotel ...</td>\n",
       "      <td>/Restaurant_Review-g187147-d1912643-Reviews-R_...</td>\n",
       "      <td>d1912643</td>\n",
       "    </tr>\n",
       "    <tr>\n",
       "      <th>1</th>\n",
       "      <td>id_1535</td>\n",
       "      <td>Stockholm</td>\n",
       "      <td>NaN</td>\n",
       "      <td>1537.0</td>\n",
       "      <td>4.0</td>\n",
       "      <td>NaN</td>\n",
       "      <td>10.0</td>\n",
       "      <td>[['Unique cuisine', 'Delicious Nepalese food']...</td>\n",
       "      <td>/Restaurant_Review-g189852-d7992032-Reviews-Bu...</td>\n",
       "      <td>d7992032</td>\n",
       "    </tr>\n",
       "    <tr>\n",
       "      <th>2</th>\n",
       "      <td>id_352</td>\n",
       "      <td>London</td>\n",
       "      <td>['Japanese', 'Sushi', 'Asian', 'Grill', 'Veget...</td>\n",
       "      <td>353.0</td>\n",
       "      <td>4.5</td>\n",
       "      <td>$$$$</td>\n",
       "      <td>688.0</td>\n",
       "      <td>[['Catch up with friends', 'Not exceptional'],...</td>\n",
       "      <td>/Restaurant_Review-g186338-d8632781-Reviews-RO...</td>\n",
       "      <td>d8632781</td>\n",
       "    </tr>\n",
       "    <tr>\n",
       "      <th>3</th>\n",
       "      <td>id_3456</td>\n",
       "      <td>Berlin</td>\n",
       "      <td>NaN</td>\n",
       "      <td>3458.0</td>\n",
       "      <td>5.0</td>\n",
       "      <td>NaN</td>\n",
       "      <td>3.0</td>\n",
       "      <td>[[], []]</td>\n",
       "      <td>/Restaurant_Review-g187323-d1358776-Reviews-Es...</td>\n",
       "      <td>d1358776</td>\n",
       "    </tr>\n",
       "    <tr>\n",
       "      <th>4</th>\n",
       "      <td>id_615</td>\n",
       "      <td>Munich</td>\n",
       "      <td>['German', 'Central European', 'Vegetarian Fri...</td>\n",
       "      <td>621.0</td>\n",
       "      <td>4.0</td>\n",
       "      <td>$$ - $$$</td>\n",
       "      <td>84.0</td>\n",
       "      <td>[['Best place to try a Bavarian food', 'Nice b...</td>\n",
       "      <td>/Restaurant_Review-g187309-d6864963-Reviews-Au...</td>\n",
       "      <td>d6864963</td>\n",
       "    </tr>\n",
       "  </tbody>\n",
       "</table>\n",
       "</div>"
      ],
      "text/plain": [
       "  Restaurant_id       City                                      Cuisine_Style  \\\n",
       "0       id_5569      Paris            ['European', 'French', 'International']   \n",
       "1       id_1535  Stockholm                                                NaN   \n",
       "2        id_352     London  ['Japanese', 'Sushi', 'Asian', 'Grill', 'Veget...   \n",
       "3       id_3456     Berlin                                                NaN   \n",
       "4        id_615     Munich  ['German', 'Central European', 'Vegetarian Fri...   \n",
       "\n",
       "   Ranking  Rating Price_Range  Number_of_Reviews  \\\n",
       "0   5570.0     3.5    $$ - $$$              194.0   \n",
       "1   1537.0     4.0         NaN               10.0   \n",
       "2    353.0     4.5        $$$$              688.0   \n",
       "3   3458.0     5.0         NaN                3.0   \n",
       "4    621.0     4.0    $$ - $$$               84.0   \n",
       "\n",
       "                                             Reviews  \\\n",
       "0  [['Good food at your doorstep', 'A good hotel ...   \n",
       "1  [['Unique cuisine', 'Delicious Nepalese food']...   \n",
       "2  [['Catch up with friends', 'Not exceptional'],...   \n",
       "3                                           [[], []]   \n",
       "4  [['Best place to try a Bavarian food', 'Nice b...   \n",
       "\n",
       "                                              URL_TA     ID_TA  \n",
       "0  /Restaurant_Review-g187147-d1912643-Reviews-R_...  d1912643  \n",
       "1  /Restaurant_Review-g189852-d7992032-Reviews-Bu...  d7992032  \n",
       "2  /Restaurant_Review-g186338-d8632781-Reviews-RO...  d8632781  \n",
       "3  /Restaurant_Review-g187323-d1358776-Reviews-Es...  d1358776  \n",
       "4  /Restaurant_Review-g187309-d6864963-Reviews-Au...  d6864963  "
      ]
     },
     "execution_count": 8,
     "metadata": {},
     "output_type": "execute_result"
    }
   ],
   "source": [
    "main_task.head()"
   ]
  },
  {
   "cell_type": "code",
   "execution_count": 9,
   "metadata": {},
   "outputs": [
    {
     "name": "stdout",
     "output_type": "stream",
     "text": [
      "Restaurant_id <class 'str'>\n",
      "City <class 'str'>\n",
      "Cuisine_Style <class 'str'>\n",
      "Ranking <class 'numpy.float64'>\n",
      "Rating <class 'numpy.float64'>\n",
      "Price_Range <class 'str'>\n",
      "Number_of_Reviews <class 'numpy.float64'>\n",
      "Reviews <class 'str'>\n",
      "URL_TA <class 'str'>\n",
      "ID_TA <class 'str'>\n"
     ]
    }
   ],
   "source": [
    "# Посмотрим тип данных в яцейках\n",
    "for i in main_task:\n",
    "    print(i, type(main_task[i][0]))"
   ]
  },
  {
   "cell_type": "code",
   "execution_count": 10,
   "metadata": {},
   "outputs": [
    {
     "name": "stdout",
     "output_type": "stream",
     "text": [
      "Restaurant_id <class 'str'>    40000\n",
      "Name: Restaurant_id, dtype: int64\n",
      "City <class 'str'>    40000\n",
      "Name: City, dtype: int64\n",
      "Cuisine_Style <class 'str'>      30717\n",
      "<class 'float'>     9283\n",
      "Name: Cuisine_Style, dtype: int64\n",
      "Ranking <class 'float'>    40000\n",
      "Name: Ranking, dtype: int64\n",
      "Rating <class 'float'>    40000\n",
      "Name: Rating, dtype: int64\n",
      "Price_Range <class 'str'>      26114\n",
      "<class 'float'>    13886\n",
      "Name: Price_Range, dtype: int64\n",
      "Number_of_Reviews <class 'float'>    40000\n",
      "Name: Number_of_Reviews, dtype: int64\n",
      "Reviews <class 'str'>    40000\n",
      "Name: Reviews, dtype: int64\n",
      "URL_TA <class 'str'>    40000\n",
      "Name: URL_TA, dtype: int64\n",
      "ID_TA <class 'str'>    40000\n",
      "Name: ID_TA, dtype: int64\n"
     ]
    }
   ],
   "source": [
    "# А можно проверить все ячейки?\n",
    "for i in main_task.columns:\n",
    "    main_type = main_task[i].apply(type)\n",
    "    print(i, main_type.value_counts())"
   ]
  },
  {
   "cell_type": "markdown",
   "metadata": {},
   "source": [
    "Не знаю насколько правильно это получилось? Пропуски определил как тип 'float', почему? Возможно есть метод и лучше, но пока оставлю так, т.к. можно увидеть, что тип данных в одной колонке одинаков, за исключением колонок с пропусками."
   ]
  },
  {
   "cell_type": "markdown",
   "metadata": {},
   "source": [
    "# Посмотрим каккие значения в колонках\n",
    "В колонке \"Restaurant_id\" указаны id ресторанов, мы знаем, что там нет пропусков и данные одного типа, и это не очень важная для нас информация этот столбец можно сразу удалить. То же с 'ID_TA', который содержит информацию о id-номерах ресторанов только в базе TripAdvisor."
   ]
  },
  {
   "cell_type": "code",
   "execution_count": 11,
   "metadata": {},
   "outputs": [],
   "source": [
    "main_task = main_task.drop(['Restaurant_id', 'ID_TA'], axis=1)"
   ]
  },
  {
   "cell_type": "markdown",
   "metadata": {},
   "source": [
    "А информация о городе, в котором находится ресторан очень важна. Мы знаем, что там нет пропусков и данные одного типа"
   ]
  },
  {
   "cell_type": "code",
   "execution_count": 12,
   "metadata": {},
   "outputs": [
    {
     "data": {
      "text/plain": [
       "London        5757\n",
       "Paris         4897\n",
       "Madrid        3108\n",
       "Barcelona     2734\n",
       "Berlin        2155\n",
       "Milan         2133\n",
       "Rome          2078\n",
       "Prague        1443\n",
       "Lisbon        1300\n",
       "Vienna        1166\n",
       "Amsterdam     1086\n",
       "Brussels      1060\n",
       "Hamburg        949\n",
       "Munich         893\n",
       "Lyon           892\n",
       "Stockholm      820\n",
       "Budapest       816\n",
       "Warsaw         727\n",
       "Dublin         673\n",
       "Copenhagen     659\n",
       "Athens         628\n",
       "Edinburgh      596\n",
       "Zurich         538\n",
       "Oporto         513\n",
       "Geneva         481\n",
       "Krakow         443\n",
       "Oslo           385\n",
       "Helsinki       376\n",
       "Bratislava     301\n",
       "Luxembourg     210\n",
       "Ljubljana      183\n",
       "Name: City, dtype: int64"
      ]
     },
     "execution_count": 12,
     "metadata": {},
     "output_type": "execute_result"
    }
   ],
   "source": [
    "# Посмотрим какую информацию содержит этот признак\n",
    "main_task.City.value_counts()"
   ]
  },
  {
   "cell_type": "code",
   "execution_count": 13,
   "metadata": {},
   "outputs": [
    {
     "data": {
      "text/plain": [
       "array(['Paris', 'Stockholm', 'London', 'Berlin', 'Munich', 'Oporto',\n",
       "       'Milan', 'Bratislava', 'Vienna', 'Rome', 'Barcelona', 'Madrid',\n",
       "       'Dublin', 'Brussels', 'Zurich', 'Warsaw', 'Budapest', 'Copenhagen',\n",
       "       'Amsterdam', 'Lyon', 'Hamburg', 'Lisbon', 'Prague', 'Oslo',\n",
       "       'Helsinki', 'Edinburgh', 'Geneva', 'Ljubljana', 'Athens',\n",
       "       'Luxembourg', 'Krakow'], dtype=object)"
      ]
     },
     "execution_count": 13,
     "metadata": {},
     "output_type": "execute_result"
    }
   ],
   "source": [
    "pd.unique(main_task.City)"
   ]
  },
  {
   "cell_type": "code",
   "execution_count": 14,
   "metadata": {},
   "outputs": [
    {
     "data": {
      "text/plain": [
       "31"
      ]
     },
     "execution_count": 14,
     "metadata": {},
     "output_type": "execute_result"
    }
   ],
   "source": [
    "len(pd.unique(main_task.City))"
   ]
  },
  {
   "cell_type": "markdown",
   "metadata": {},
   "source": [
    "Данные без пропусков, без лишних символов. Значения можно перевести в цифровой формат, где определенному городу будет соответствовать определенное число."
   ]
  },
  {
   "cell_type": "code",
   "execution_count": 15,
   "metadata": {},
   "outputs": [],
   "source": [
    "# создадим Dummy-переменные"
   ]
  },
  {
   "cell_type": "code",
   "execution_count": 16,
   "metadata": {},
   "outputs": [],
   "source": [
    "main_task = pd.concat([main_task, pd.get_dummies(main_task['City'])], axis=1)"
   ]
  },
  {
   "cell_type": "code",
   "execution_count": 17,
   "metadata": {},
   "outputs": [
    {
     "name": "stdout",
     "output_type": "stream",
     "text": [
      "<class 'pandas.core.frame.DataFrame'>\n",
      "RangeIndex: 40000 entries, 0 to 39999\n",
      "Data columns (total 39 columns):\n",
      " #   Column             Non-Null Count  Dtype  \n",
      "---  ------             --------------  -----  \n",
      " 0   City               40000 non-null  object \n",
      " 1   Cuisine_Style      30717 non-null  object \n",
      " 2   Ranking            40000 non-null  float64\n",
      " 3   Rating             40000 non-null  float64\n",
      " 4   Price_Range        26114 non-null  object \n",
      " 5   Number_of_Reviews  37457 non-null  float64\n",
      " 6   Reviews            40000 non-null  object \n",
      " 7   URL_TA             40000 non-null  object \n",
      " 8   Amsterdam          40000 non-null  uint8  \n",
      " 9   Athens             40000 non-null  uint8  \n",
      " 10  Barcelona          40000 non-null  uint8  \n",
      " 11  Berlin             40000 non-null  uint8  \n",
      " 12  Bratislava         40000 non-null  uint8  \n",
      " 13  Brussels           40000 non-null  uint8  \n",
      " 14  Budapest           40000 non-null  uint8  \n",
      " 15  Copenhagen         40000 non-null  uint8  \n",
      " 16  Dublin             40000 non-null  uint8  \n",
      " 17  Edinburgh          40000 non-null  uint8  \n",
      " 18  Geneva             40000 non-null  uint8  \n",
      " 19  Hamburg            40000 non-null  uint8  \n",
      " 20  Helsinki           40000 non-null  uint8  \n",
      " 21  Krakow             40000 non-null  uint8  \n",
      " 22  Lisbon             40000 non-null  uint8  \n",
      " 23  Ljubljana          40000 non-null  uint8  \n",
      " 24  London             40000 non-null  uint8  \n",
      " 25  Luxembourg         40000 non-null  uint8  \n",
      " 26  Lyon               40000 non-null  uint8  \n",
      " 27  Madrid             40000 non-null  uint8  \n",
      " 28  Milan              40000 non-null  uint8  \n",
      " 29  Munich             40000 non-null  uint8  \n",
      " 30  Oporto             40000 non-null  uint8  \n",
      " 31  Oslo               40000 non-null  uint8  \n",
      " 32  Paris              40000 non-null  uint8  \n",
      " 33  Prague             40000 non-null  uint8  \n",
      " 34  Rome               40000 non-null  uint8  \n",
      " 35  Stockholm          40000 non-null  uint8  \n",
      " 36  Vienna             40000 non-null  uint8  \n",
      " 37  Warsaw             40000 non-null  uint8  \n",
      " 38  Zurich             40000 non-null  uint8  \n",
      "dtypes: float64(3), object(5), uint8(31)\n",
      "memory usage: 3.6+ MB\n"
     ]
    }
   ],
   "source": [
    "main_task.info()"
   ]
  },
  {
   "cell_type": "markdown",
   "metadata": {},
   "source": [
    "Price_Range - ценовая категория, важный показатель."
   ]
  },
  {
   "cell_type": "code",
   "execution_count": 18,
   "metadata": {
    "scrolled": true
   },
   "outputs": [
    {
     "data": {
      "text/plain": [
       "$$ - $$$    18412\n",
       "$            6279\n",
       "$$$$         1423\n",
       "Name: Price_Range, dtype: int64"
      ]
     },
     "execution_count": 18,
     "metadata": {},
     "output_type": "execute_result"
    }
   ],
   "source": [
    "main_task.Price_Range.value_counts()"
   ]
  },
  {
   "cell_type": "markdown",
   "metadata": {},
   "source": [
    "Мы видим, что данные отображены символами - с ними не удобно работать. Заменим их на более привычные low (низкий), middle (средний) и high (высокий) уровень цен."
   ]
  },
  {
   "cell_type": "code",
   "execution_count": 19,
   "metadata": {
    "scrolled": true
   },
   "outputs": [],
   "source": [
    "price_level = {'$': 'low', '$$ - $$$': 'middle', '$$$$': 'high'}"
   ]
  },
  {
   "cell_type": "code",
   "execution_count": 20,
   "metadata": {},
   "outputs": [],
   "source": [
    "main_task.Price_Range = main_task.Price_Range.replace(to_replace=price_level)"
   ]
  },
  {
   "cell_type": "code",
   "execution_count": 21,
   "metadata": {
    "scrolled": true
   },
   "outputs": [],
   "source": [
    "# создадим Dummy-переменные\n",
    "main_task = pd.concat(\n",
    "    [main_task, pd.get_dummies(main_task['Price_Range'])], axis=1)"
   ]
  },
  {
   "cell_type": "code",
   "execution_count": 22,
   "metadata": {},
   "outputs": [
    {
     "name": "stdout",
     "output_type": "stream",
     "text": [
      "<class 'pandas.core.frame.DataFrame'>\n",
      "RangeIndex: 40000 entries, 0 to 39999\n",
      "Data columns (total 42 columns):\n",
      " #   Column             Non-Null Count  Dtype  \n",
      "---  ------             --------------  -----  \n",
      " 0   City               40000 non-null  object \n",
      " 1   Cuisine_Style      30717 non-null  object \n",
      " 2   Ranking            40000 non-null  float64\n",
      " 3   Rating             40000 non-null  float64\n",
      " 4   Price_Range        26114 non-null  object \n",
      " 5   Number_of_Reviews  37457 non-null  float64\n",
      " 6   Reviews            40000 non-null  object \n",
      " 7   URL_TA             40000 non-null  object \n",
      " 8   Amsterdam          40000 non-null  uint8  \n",
      " 9   Athens             40000 non-null  uint8  \n",
      " 10  Barcelona          40000 non-null  uint8  \n",
      " 11  Berlin             40000 non-null  uint8  \n",
      " 12  Bratislava         40000 non-null  uint8  \n",
      " 13  Brussels           40000 non-null  uint8  \n",
      " 14  Budapest           40000 non-null  uint8  \n",
      " 15  Copenhagen         40000 non-null  uint8  \n",
      " 16  Dublin             40000 non-null  uint8  \n",
      " 17  Edinburgh          40000 non-null  uint8  \n",
      " 18  Geneva             40000 non-null  uint8  \n",
      " 19  Hamburg            40000 non-null  uint8  \n",
      " 20  Helsinki           40000 non-null  uint8  \n",
      " 21  Krakow             40000 non-null  uint8  \n",
      " 22  Lisbon             40000 non-null  uint8  \n",
      " 23  Ljubljana          40000 non-null  uint8  \n",
      " 24  London             40000 non-null  uint8  \n",
      " 25  Luxembourg         40000 non-null  uint8  \n",
      " 26  Lyon               40000 non-null  uint8  \n",
      " 27  Madrid             40000 non-null  uint8  \n",
      " 28  Milan              40000 non-null  uint8  \n",
      " 29  Munich             40000 non-null  uint8  \n",
      " 30  Oporto             40000 non-null  uint8  \n",
      " 31  Oslo               40000 non-null  uint8  \n",
      " 32  Paris              40000 non-null  uint8  \n",
      " 33  Prague             40000 non-null  uint8  \n",
      " 34  Rome               40000 non-null  uint8  \n",
      " 35  Stockholm          40000 non-null  uint8  \n",
      " 36  Vienna             40000 non-null  uint8  \n",
      " 37  Warsaw             40000 non-null  uint8  \n",
      " 38  Zurich             40000 non-null  uint8  \n",
      " 39  high               40000 non-null  uint8  \n",
      " 40  low                40000 non-null  uint8  \n",
      " 41  middle             40000 non-null  uint8  \n",
      "dtypes: float64(3), object(5), uint8(34)\n",
      "memory usage: 3.7+ MB\n"
     ]
    }
   ],
   "source": [
    "main_task.info()"
   ]
  },
  {
   "cell_type": "markdown",
   "metadata": {},
   "source": [
    "# Кухни - Cuisine_Style"
   ]
  },
  {
   "cell_type": "code",
   "execution_count": 23,
   "metadata": {},
   "outputs": [
    {
     "data": {
      "text/plain": [
       "\"['European', 'French', 'International']\""
      ]
     },
     "execution_count": 23,
     "metadata": {},
     "output_type": "execute_result"
    }
   ],
   "source": [
    "# Посмотрим какую информацию содержит этот признак\n",
    "main_task.Cuisine_Style[0]"
   ]
  },
  {
   "cell_type": "code",
   "execution_count": 24,
   "metadata": {},
   "outputs": [
    {
     "data": {
      "text/plain": [
       "\"European', 'French', 'International\""
      ]
     },
     "execution_count": 24,
     "metadata": {},
     "output_type": "execute_result"
    }
   ],
   "source": [
    "main_task.Cuisine_Style[0].strip(\"'[]\")"
   ]
  },
  {
   "cell_type": "code",
   "execution_count": 25,
   "metadata": {},
   "outputs": [
    {
     "name": "stderr",
     "output_type": "stream",
     "text": [
      "/opt/anaconda3/lib/python3.7/site-packages/ipykernel_launcher.py:3: SettingWithCopyWarning: \n",
      "A value is trying to be set on a copy of a slice from a DataFrame\n",
      "\n",
      "See the caveats in the documentation: https://pandas.pydata.org/pandas-docs/stable/user_guide/indexing.html#returning-a-view-versus-a-copy\n",
      "  This is separate from the ipykernel package so we can avoid doing imports until\n"
     ]
    }
   ],
   "source": [
    "for i in main_task.Cuisine_Style.index:\n",
    "    main_task.Cuisine_Style[i] = [element.strip(\n",
    "        \"'[]\") for element in str(main_task.Cuisine_Style[i]).split(\", \")]"
   ]
  },
  {
   "cell_type": "code",
   "execution_count": 26,
   "metadata": {
    "scrolled": true
   },
   "outputs": [
    {
     "data": {
      "text/plain": [
       "0                        [European, French, International]\n",
       "1                                                    [nan]\n",
       "2        [Japanese, Sushi, Asian, Grill, Vegetarian Fri...\n",
       "3                                                    [nan]\n",
       "4          [German, Central European, Vegetarian Friendly]\n",
       "                               ...                        \n",
       "39995    [Italian, Vegetarian Friendly, Vegan Options, ...\n",
       "39996    [French, American, Bar, European, Vegetarian F...\n",
       "39997                                    [Japanese, Sushi]\n",
       "39998    [Polish, European, Eastern European, Central E...\n",
       "39999                                            [Spanish]\n",
       "Name: Cuisine_Style, Length: 40000, dtype: object"
      ]
     },
     "execution_count": 26,
     "metadata": {},
     "output_type": "execute_result"
    }
   ],
   "source": [
    "main_task.Cuisine_Style"
   ]
  },
  {
   "cell_type": "code",
   "execution_count": 27,
   "metadata": {
    "scrolled": true
   },
   "outputs": [
    {
     "data": {
      "text/plain": [
       "[('Vegetarian Friendly', 11189),\n",
       " ('European', 10060),\n",
       " ('nan', 9283),\n",
       " ('Mediterranean', 6277),\n",
       " ('Italian', 5964)]"
      ]
     },
     "execution_count": 27,
     "metadata": {},
     "output_type": "execute_result"
    }
   ],
   "source": [
    "Counter(main_task.Cuisine_Style.sum()).most_common(5)"
   ]
  },
  {
   "cell_type": "markdown",
   "metadata": {},
   "source": [
    "dummy-переменную мы сдесь не создадим, т.к. информация о стилях кухни хранится в списке, пропробуем иначе создать признаки, основанные на информации о стилях кухни"
   ]
  },
  {
   "cell_type": "code",
   "execution_count": 28,
   "metadata": {},
   "outputs": [
    {
     "data": {
      "text/plain": [
       "126"
      ]
     },
     "execution_count": 28,
     "metadata": {},
     "output_type": "execute_result"
    }
   ],
   "source": [
    "Cuisine = set()  # создаём пустое множество для хранения уникальных значений стилей кухонь\n",
    "for c in main_task.Cuisine_Style:  # начинаем перебор всех стилей кухонь\n",
    "    for i in c:  # начинаем перебор всех стилей кухонь\n",
    "        # добавляем название стиля кухни к множеству\n",
    "        Cuisine.add(i)\n",
    "len(Cuisine)"
   ]
  },
  {
   "cell_type": "code",
   "execution_count": 29,
   "metadata": {},
   "outputs": [
    {
     "data": {
      "text/plain": [
       "2.6224"
      ]
     },
     "execution_count": 29,
     "metadata": {},
     "output_type": "execute_result"
    }
   ],
   "source": [
    "main_task.Cuisine_Style.apply(lambda s: len(s)).mean()"
   ]
  },
  {
   "cell_type": "code",
   "execution_count": 30,
   "metadata": {},
   "outputs": [],
   "source": [
    "def find_item(cell):\n",
    "    if item in cell:\n",
    "        return 1\n",
    "    return 0"
   ]
  },
  {
   "cell_type": "code",
   "execution_count": 31,
   "metadata": {},
   "outputs": [],
   "source": [
    "for item in Cuisine:\n",
    "    main_task[item] = main_task['Cuisine_Style'].apply(find_item)"
   ]
  },
  {
   "cell_type": "code",
   "execution_count": 32,
   "metadata": {},
   "outputs": [],
   "source": [
    "# А сам признак Cuisine_Style заменим количеством типов кухонь, представленных в ресторане\n",
    "main_task['Cuisine_Style'] = main_task['Cuisine_Style'].apply(lambda x: len(x))"
   ]
  },
  {
   "cell_type": "markdown",
   "metadata": {},
   "source": [
    "Двнные об отзывах"
   ]
  },
  {
   "cell_type": "code",
   "execution_count": 33,
   "metadata": {},
   "outputs": [],
   "source": [
    "# Пока заполним пропуски нулями, затем заполним по количеству отзывов в столбце Reviews\n",
    "main_task['Number_of_Reviews'] = main_task['Number_of_Reviews'].fillna(0)"
   ]
  },
  {
   "cell_type": "code",
   "execution_count": 34,
   "metadata": {
    "scrolled": true
   },
   "outputs": [],
   "source": [
    "# Приведем столбец Number_of_Reviews к типу данных int\n",
    "main_task.Number_of_Reviews = main_task.Number_of_Reviews.astype('int')"
   ]
  },
  {
   "cell_type": "code",
   "execution_count": 35,
   "metadata": {},
   "outputs": [],
   "source": [
    "main_task.Ranking = main_task.Ranking.astype('int')"
   ]
  },
  {
   "cell_type": "code",
   "execution_count": 36,
   "metadata": {},
   "outputs": [
    {
     "data": {
      "text/plain": [
       "0        194\n",
       "1         10\n",
       "2        688\n",
       "3          3\n",
       "4         84\n",
       "        ... \n",
       "39995     79\n",
       "39996    542\n",
       "39997      4\n",
       "39998     70\n",
       "39999    260\n",
       "Name: Number_of_Reviews, Length: 40000, dtype: int64"
      ]
     },
     "execution_count": 36,
     "metadata": {},
     "output_type": "execute_result"
    }
   ],
   "source": [
    "main_task['Number_of_Reviews']"
   ]
  },
  {
   "cell_type": "code",
   "execution_count": 37,
   "metadata": {
    "scrolled": true
   },
   "outputs": [
    {
     "data": {
      "text/plain": [
       "\"[['Good food at your doorstep', 'A good hotel restaurant'], ['12/31/2017', '11/20/2017']]\""
      ]
     },
     "execution_count": 37,
     "metadata": {},
     "output_type": "execute_result"
    }
   ],
   "source": [
    "main_task.Reviews[0]"
   ]
  },
  {
   "cell_type": "code",
   "execution_count": 38,
   "metadata": {},
   "outputs": [],
   "source": [
    " main_task['data_reviews'] =  main_task['Reviews']"
   ]
  },
  {
   "cell_type": "code",
   "execution_count": 39,
   "metadata": {
    "scrolled": true
   },
   "outputs": [
    {
     "name": "stderr",
     "output_type": "stream",
     "text": [
      "/opt/anaconda3/lib/python3.7/site-packages/ipykernel_launcher.py:3: SettingWithCopyWarning: \n",
      "A value is trying to be set on a copy of a slice from a DataFrame\n",
      "\n",
      "See the caveats in the documentation: https://pandas.pydata.org/pandas-docs/stable/user_guide/indexing.html#returning-a-view-versus-a-copy\n",
      "  This is separate from the ipykernel package so we can avoid doing imports until\n"
     ]
    }
   ],
   "source": [
    "pattern_date = re.compile('\\d{2}/\\d{2}/\\d{4}')\n",
    "for i in main_task.data_reviews.index:\n",
    "    main_task['data_reviews'][i] = pattern_date.findall(main_task.data_reviews[i])"
   ]
  },
  {
   "cell_type": "code",
   "execution_count": 40,
   "metadata": {
    "scrolled": false
   },
   "outputs": [
    {
     "data": {
      "text/plain": [
       "['12/31/2017', '11/20/2017']"
      ]
     },
     "execution_count": 40,
     "metadata": {},
     "output_type": "execute_result"
    }
   ],
   "source": [
    " main_task['data_reviews'][0]"
   ]
  },
  {
   "cell_type": "code",
   "execution_count": 41,
   "metadata": {},
   "outputs": [],
   "source": [
    "new_rew = main_task['data_reviews'].apply(pd.Series)"
   ]
  },
  {
   "cell_type": "code",
   "execution_count": 42,
   "metadata": {},
   "outputs": [],
   "source": [
    "new_rew.columns = ['data_reviews_1', 'data_reviews_2']"
   ]
  },
  {
   "cell_type": "code",
   "execution_count": 43,
   "metadata": {},
   "outputs": [],
   "source": [
    "new_rew = new_rew.fillna(0)"
   ]
  },
  {
   "cell_type": "code",
   "execution_count": 44,
   "metadata": {},
   "outputs": [],
   "source": [
    "main_task = pd.concat([main_task, new_rew], axis=1).drop('data_reviews', axis=1)"
   ]
  },
  {
   "cell_type": "code",
   "execution_count": 45,
   "metadata": {
    "scrolled": true
   },
   "outputs": [
    {
     "data": {
      "text/html": [
       "<div>\n",
       "<style scoped>\n",
       "    .dataframe tbody tr th:only-of-type {\n",
       "        vertical-align: middle;\n",
       "    }\n",
       "\n",
       "    .dataframe tbody tr th {\n",
       "        vertical-align: top;\n",
       "    }\n",
       "\n",
       "    .dataframe thead th {\n",
       "        text-align: right;\n",
       "    }\n",
       "</style>\n",
       "<table border=\"1\" class=\"dataframe\">\n",
       "  <thead>\n",
       "    <tr style=\"text-align: right;\">\n",
       "      <th></th>\n",
       "      <th>City</th>\n",
       "      <th>Cuisine_Style</th>\n",
       "      <th>Ranking</th>\n",
       "      <th>Rating</th>\n",
       "      <th>Price_Range</th>\n",
       "      <th>Number_of_Reviews</th>\n",
       "      <th>Reviews</th>\n",
       "      <th>URL_TA</th>\n",
       "      <th>Amsterdam</th>\n",
       "      <th>Athens</th>\n",
       "      <th>Barcelona</th>\n",
       "      <th>Berlin</th>\n",
       "      <th>Bratislava</th>\n",
       "      <th>Brussels</th>\n",
       "      <th>Budapest</th>\n",
       "      <th>Copenhagen</th>\n",
       "      <th>Dublin</th>\n",
       "      <th>Edinburgh</th>\n",
       "      <th>Geneva</th>\n",
       "      <th>Hamburg</th>\n",
       "      <th>Helsinki</th>\n",
       "      <th>Krakow</th>\n",
       "      <th>Lisbon</th>\n",
       "      <th>Ljubljana</th>\n",
       "      <th>London</th>\n",
       "      <th>...</th>\n",
       "      <th>Latvian</th>\n",
       "      <th>Japanese</th>\n",
       "      <th>Croatian</th>\n",
       "      <th>Steakhouse</th>\n",
       "      <th>Hawaiian</th>\n",
       "      <th>Welsh</th>\n",
       "      <th>Jamaican</th>\n",
       "      <th>Asian</th>\n",
       "      <th>Gluten Free Options</th>\n",
       "      <th>Peruvian</th>\n",
       "      <th>Delicatessen</th>\n",
       "      <th>Chilean</th>\n",
       "      <th>Pizza</th>\n",
       "      <th>Australian</th>\n",
       "      <th>Vietnamese</th>\n",
       "      <th>European</th>\n",
       "      <th>Brew Pub</th>\n",
       "      <th>Balti</th>\n",
       "      <th>Hungarian</th>\n",
       "      <th>Colombian</th>\n",
       "      <th>Danish</th>\n",
       "      <th>Halal</th>\n",
       "      <th>Argentinean</th>\n",
       "      <th>data_reviews_1</th>\n",
       "      <th>data_reviews_2</th>\n",
       "    </tr>\n",
       "  </thead>\n",
       "  <tbody>\n",
       "    <tr>\n",
       "      <th>0</th>\n",
       "      <td>Paris</td>\n",
       "      <td>3</td>\n",
       "      <td>5570</td>\n",
       "      <td>3.5</td>\n",
       "      <td>middle</td>\n",
       "      <td>194</td>\n",
       "      <td>[['Good food at your doorstep', 'A good hotel ...</td>\n",
       "      <td>/Restaurant_Review-g187147-d1912643-Reviews-R_...</td>\n",
       "      <td>0</td>\n",
       "      <td>0</td>\n",
       "      <td>0</td>\n",
       "      <td>0</td>\n",
       "      <td>0</td>\n",
       "      <td>0</td>\n",
       "      <td>0</td>\n",
       "      <td>0</td>\n",
       "      <td>0</td>\n",
       "      <td>0</td>\n",
       "      <td>0</td>\n",
       "      <td>0</td>\n",
       "      <td>0</td>\n",
       "      <td>0</td>\n",
       "      <td>0</td>\n",
       "      <td>0</td>\n",
       "      <td>0</td>\n",
       "      <td>...</td>\n",
       "      <td>0</td>\n",
       "      <td>0</td>\n",
       "      <td>0</td>\n",
       "      <td>0</td>\n",
       "      <td>0</td>\n",
       "      <td>0</td>\n",
       "      <td>0</td>\n",
       "      <td>0</td>\n",
       "      <td>0</td>\n",
       "      <td>0</td>\n",
       "      <td>0</td>\n",
       "      <td>0</td>\n",
       "      <td>0</td>\n",
       "      <td>0</td>\n",
       "      <td>0</td>\n",
       "      <td>1</td>\n",
       "      <td>0</td>\n",
       "      <td>0</td>\n",
       "      <td>0</td>\n",
       "      <td>0</td>\n",
       "      <td>0</td>\n",
       "      <td>0</td>\n",
       "      <td>0</td>\n",
       "      <td>12/31/2017</td>\n",
       "      <td>11/20/2017</td>\n",
       "    </tr>\n",
       "    <tr>\n",
       "      <th>1</th>\n",
       "      <td>Stockholm</td>\n",
       "      <td>1</td>\n",
       "      <td>1537</td>\n",
       "      <td>4.0</td>\n",
       "      <td>NaN</td>\n",
       "      <td>10</td>\n",
       "      <td>[['Unique cuisine', 'Delicious Nepalese food']...</td>\n",
       "      <td>/Restaurant_Review-g189852-d7992032-Reviews-Bu...</td>\n",
       "      <td>0</td>\n",
       "      <td>0</td>\n",
       "      <td>0</td>\n",
       "      <td>0</td>\n",
       "      <td>0</td>\n",
       "      <td>0</td>\n",
       "      <td>0</td>\n",
       "      <td>0</td>\n",
       "      <td>0</td>\n",
       "      <td>0</td>\n",
       "      <td>0</td>\n",
       "      <td>0</td>\n",
       "      <td>0</td>\n",
       "      <td>0</td>\n",
       "      <td>0</td>\n",
       "      <td>0</td>\n",
       "      <td>0</td>\n",
       "      <td>...</td>\n",
       "      <td>0</td>\n",
       "      <td>0</td>\n",
       "      <td>0</td>\n",
       "      <td>0</td>\n",
       "      <td>0</td>\n",
       "      <td>0</td>\n",
       "      <td>0</td>\n",
       "      <td>0</td>\n",
       "      <td>0</td>\n",
       "      <td>0</td>\n",
       "      <td>0</td>\n",
       "      <td>0</td>\n",
       "      <td>0</td>\n",
       "      <td>0</td>\n",
       "      <td>0</td>\n",
       "      <td>0</td>\n",
       "      <td>0</td>\n",
       "      <td>0</td>\n",
       "      <td>0</td>\n",
       "      <td>0</td>\n",
       "      <td>0</td>\n",
       "      <td>0</td>\n",
       "      <td>0</td>\n",
       "      <td>07/06/2017</td>\n",
       "      <td>06/19/2016</td>\n",
       "    </tr>\n",
       "    <tr>\n",
       "      <th>2</th>\n",
       "      <td>London</td>\n",
       "      <td>7</td>\n",
       "      <td>353</td>\n",
       "      <td>4.5</td>\n",
       "      <td>high</td>\n",
       "      <td>688</td>\n",
       "      <td>[['Catch up with friends', 'Not exceptional'],...</td>\n",
       "      <td>/Restaurant_Review-g186338-d8632781-Reviews-RO...</td>\n",
       "      <td>0</td>\n",
       "      <td>0</td>\n",
       "      <td>0</td>\n",
       "      <td>0</td>\n",
       "      <td>0</td>\n",
       "      <td>0</td>\n",
       "      <td>0</td>\n",
       "      <td>0</td>\n",
       "      <td>0</td>\n",
       "      <td>0</td>\n",
       "      <td>0</td>\n",
       "      <td>0</td>\n",
       "      <td>0</td>\n",
       "      <td>0</td>\n",
       "      <td>0</td>\n",
       "      <td>0</td>\n",
       "      <td>1</td>\n",
       "      <td>...</td>\n",
       "      <td>0</td>\n",
       "      <td>1</td>\n",
       "      <td>0</td>\n",
       "      <td>0</td>\n",
       "      <td>0</td>\n",
       "      <td>0</td>\n",
       "      <td>0</td>\n",
       "      <td>1</td>\n",
       "      <td>1</td>\n",
       "      <td>0</td>\n",
       "      <td>0</td>\n",
       "      <td>0</td>\n",
       "      <td>0</td>\n",
       "      <td>0</td>\n",
       "      <td>0</td>\n",
       "      <td>0</td>\n",
       "      <td>0</td>\n",
       "      <td>0</td>\n",
       "      <td>0</td>\n",
       "      <td>0</td>\n",
       "      <td>0</td>\n",
       "      <td>0</td>\n",
       "      <td>0</td>\n",
       "      <td>01/08/2018</td>\n",
       "      <td>01/06/2018</td>\n",
       "    </tr>\n",
       "    <tr>\n",
       "      <th>3</th>\n",
       "      <td>Berlin</td>\n",
       "      <td>1</td>\n",
       "      <td>3458</td>\n",
       "      <td>5.0</td>\n",
       "      <td>NaN</td>\n",
       "      <td>3</td>\n",
       "      <td>[[], []]</td>\n",
       "      <td>/Restaurant_Review-g187323-d1358776-Reviews-Es...</td>\n",
       "      <td>0</td>\n",
       "      <td>0</td>\n",
       "      <td>0</td>\n",
       "      <td>1</td>\n",
       "      <td>0</td>\n",
       "      <td>0</td>\n",
       "      <td>0</td>\n",
       "      <td>0</td>\n",
       "      <td>0</td>\n",
       "      <td>0</td>\n",
       "      <td>0</td>\n",
       "      <td>0</td>\n",
       "      <td>0</td>\n",
       "      <td>0</td>\n",
       "      <td>0</td>\n",
       "      <td>0</td>\n",
       "      <td>0</td>\n",
       "      <td>...</td>\n",
       "      <td>0</td>\n",
       "      <td>0</td>\n",
       "      <td>0</td>\n",
       "      <td>0</td>\n",
       "      <td>0</td>\n",
       "      <td>0</td>\n",
       "      <td>0</td>\n",
       "      <td>0</td>\n",
       "      <td>0</td>\n",
       "      <td>0</td>\n",
       "      <td>0</td>\n",
       "      <td>0</td>\n",
       "      <td>0</td>\n",
       "      <td>0</td>\n",
       "      <td>0</td>\n",
       "      <td>0</td>\n",
       "      <td>0</td>\n",
       "      <td>0</td>\n",
       "      <td>0</td>\n",
       "      <td>0</td>\n",
       "      <td>0</td>\n",
       "      <td>0</td>\n",
       "      <td>0</td>\n",
       "      <td>0</td>\n",
       "      <td>0</td>\n",
       "    </tr>\n",
       "    <tr>\n",
       "      <th>4</th>\n",
       "      <td>Munich</td>\n",
       "      <td>3</td>\n",
       "      <td>621</td>\n",
       "      <td>4.0</td>\n",
       "      <td>middle</td>\n",
       "      <td>84</td>\n",
       "      <td>[['Best place to try a Bavarian food', 'Nice b...</td>\n",
       "      <td>/Restaurant_Review-g187309-d6864963-Reviews-Au...</td>\n",
       "      <td>0</td>\n",
       "      <td>0</td>\n",
       "      <td>0</td>\n",
       "      <td>0</td>\n",
       "      <td>0</td>\n",
       "      <td>0</td>\n",
       "      <td>0</td>\n",
       "      <td>0</td>\n",
       "      <td>0</td>\n",
       "      <td>0</td>\n",
       "      <td>0</td>\n",
       "      <td>0</td>\n",
       "      <td>0</td>\n",
       "      <td>0</td>\n",
       "      <td>0</td>\n",
       "      <td>0</td>\n",
       "      <td>0</td>\n",
       "      <td>...</td>\n",
       "      <td>0</td>\n",
       "      <td>0</td>\n",
       "      <td>0</td>\n",
       "      <td>0</td>\n",
       "      <td>0</td>\n",
       "      <td>0</td>\n",
       "      <td>0</td>\n",
       "      <td>0</td>\n",
       "      <td>0</td>\n",
       "      <td>0</td>\n",
       "      <td>0</td>\n",
       "      <td>0</td>\n",
       "      <td>0</td>\n",
       "      <td>0</td>\n",
       "      <td>0</td>\n",
       "      <td>0</td>\n",
       "      <td>0</td>\n",
       "      <td>0</td>\n",
       "      <td>0</td>\n",
       "      <td>0</td>\n",
       "      <td>0</td>\n",
       "      <td>0</td>\n",
       "      <td>0</td>\n",
       "      <td>11/18/2017</td>\n",
       "      <td>02/19/2017</td>\n",
       "    </tr>\n",
       "  </tbody>\n",
       "</table>\n",
       "<p>5 rows × 170 columns</p>\n",
       "</div>"
      ],
      "text/plain": [
       "        City  Cuisine_Style  Ranking  Rating Price_Range  Number_of_Reviews  \\\n",
       "0      Paris              3     5570     3.5      middle                194   \n",
       "1  Stockholm              1     1537     4.0         NaN                 10   \n",
       "2     London              7      353     4.5        high                688   \n",
       "3     Berlin              1     3458     5.0         NaN                  3   \n",
       "4     Munich              3      621     4.0      middle                 84   \n",
       "\n",
       "                                             Reviews  \\\n",
       "0  [['Good food at your doorstep', 'A good hotel ...   \n",
       "1  [['Unique cuisine', 'Delicious Nepalese food']...   \n",
       "2  [['Catch up with friends', 'Not exceptional'],...   \n",
       "3                                           [[], []]   \n",
       "4  [['Best place to try a Bavarian food', 'Nice b...   \n",
       "\n",
       "                                              URL_TA  Amsterdam  Athens  \\\n",
       "0  /Restaurant_Review-g187147-d1912643-Reviews-R_...          0       0   \n",
       "1  /Restaurant_Review-g189852-d7992032-Reviews-Bu...          0       0   \n",
       "2  /Restaurant_Review-g186338-d8632781-Reviews-RO...          0       0   \n",
       "3  /Restaurant_Review-g187323-d1358776-Reviews-Es...          0       0   \n",
       "4  /Restaurant_Review-g187309-d6864963-Reviews-Au...          0       0   \n",
       "\n",
       "   Barcelona  Berlin  Bratislava  Brussels  Budapest  Copenhagen  Dublin  \\\n",
       "0          0       0           0         0         0           0       0   \n",
       "1          0       0           0         0         0           0       0   \n",
       "2          0       0           0         0         0           0       0   \n",
       "3          0       1           0         0         0           0       0   \n",
       "4          0       0           0         0         0           0       0   \n",
       "\n",
       "   Edinburgh  Geneva  Hamburg  Helsinki  Krakow  Lisbon  Ljubljana  London  \\\n",
       "0          0       0        0         0       0       0          0       0   \n",
       "1          0       0        0         0       0       0          0       0   \n",
       "2          0       0        0         0       0       0          0       1   \n",
       "3          0       0        0         0       0       0          0       0   \n",
       "4          0       0        0         0       0       0          0       0   \n",
       "\n",
       "   ...  Latvian  Japanese  Croatian  Steakhouse  Hawaiian  Welsh  Jamaican  \\\n",
       "0  ...        0         0         0           0         0      0         0   \n",
       "1  ...        0         0         0           0         0      0         0   \n",
       "2  ...        0         1         0           0         0      0         0   \n",
       "3  ...        0         0         0           0         0      0         0   \n",
       "4  ...        0         0         0           0         0      0         0   \n",
       "\n",
       "   Asian  Gluten Free Options  Peruvian  Delicatessen  Chilean  Pizza  \\\n",
       "0      0                    0         0             0        0      0   \n",
       "1      0                    0         0             0        0      0   \n",
       "2      1                    1         0             0        0      0   \n",
       "3      0                    0         0             0        0      0   \n",
       "4      0                    0         0             0        0      0   \n",
       "\n",
       "   Australian  Vietnamese  European  Brew Pub  Balti  Hungarian  Colombian  \\\n",
       "0           0           0         1         0      0          0          0   \n",
       "1           0           0         0         0      0          0          0   \n",
       "2           0           0         0         0      0          0          0   \n",
       "3           0           0         0         0      0          0          0   \n",
       "4           0           0         0         0      0          0          0   \n",
       "\n",
       "   Danish  Halal  Argentinean  data_reviews_1  data_reviews_2  \n",
       "0       0      0            0      12/31/2017      11/20/2017  \n",
       "1       0      0            0      07/06/2017      06/19/2016  \n",
       "2       0      0            0      01/08/2018      01/06/2018  \n",
       "3       0      0            0               0               0  \n",
       "4       0      0            0      11/18/2017      02/19/2017  \n",
       "\n",
       "[5 rows x 170 columns]"
      ]
     },
     "execution_count": 45,
     "metadata": {},
     "output_type": "execute_result"
    }
   ],
   "source": [
    "main_task.head()"
   ]
  },
  {
   "cell_type": "code",
   "execution_count": 46,
   "metadata": {},
   "outputs": [],
   "source": [
    "main_task['data_reviews_1'] = pd.to_datetime(main_task['data_reviews_1'])"
   ]
  },
  {
   "cell_type": "code",
   "execution_count": 47,
   "metadata": {},
   "outputs": [
    {
     "data": {
      "text/plain": [
       "1970-01-01    6471\n",
       "2018-01-07     486\n",
       "2018-01-03     433\n",
       "2018-01-06     396\n",
       "2018-01-08     377\n",
       "              ... \n",
       "2013-08-07       1\n",
       "2013-07-27       1\n",
       "2014-03-05       1\n",
       "2012-08-13       1\n",
       "2012-09-27       1\n",
       "Name: data_reviews_1, Length: 1881, dtype: int64"
      ]
     },
     "execution_count": 47,
     "metadata": {},
     "output_type": "execute_result"
    }
   ],
   "source": [
    "main_task['data_reviews_1'].value_counts()"
   ]
  },
  {
   "cell_type": "code",
   "execution_count": 48,
   "metadata": {},
   "outputs": [],
   "source": [
    "main_task['data_reviews_2'] = pd.to_datetime(main_task['data_reviews_2'])"
   ]
  },
  {
   "cell_type": "code",
   "execution_count": 49,
   "metadata": {
    "scrolled": false
   },
   "outputs": [
    {
     "data": {
      "text/plain": [
       "1970-01-01    11027\n",
       "2018-01-03      194\n",
       "2017-12-30      174\n",
       "2018-01-04      167\n",
       "2018-01-01      166\n",
       "              ...  \n",
       "2015-01-02        1\n",
       "2013-09-01        1\n",
       "2013-08-09        1\n",
       "2009-01-14        1\n",
       "2013-01-26        1\n",
       "Name: data_reviews_2, Length: 1952, dtype: int64"
      ]
     },
     "execution_count": 49,
     "metadata": {},
     "output_type": "execute_result"
    }
   ],
   "source": [
    "main_task['data_reviews_2'].value_counts()"
   ]
  },
  {
   "cell_type": "markdown",
   "metadata": {},
   "source": [
    "Много ячеек с датой 1970-01-01 скорее всего это ошибочная информация"
   ]
  },
  {
   "cell_type": "code",
   "execution_count": 50,
   "metadata": {},
   "outputs": [
    {
     "data": {
      "text/plain": [
       "7990    -3207 days\n",
       "10997   -3137 days\n",
       "39997   -3127 days\n",
       "8356    -3096 days\n",
       "19438   -3094 days\n",
       "           ...    \n",
       "39972          NaT\n",
       "39974          NaT\n",
       "39983          NaT\n",
       "39984          NaT\n",
       "39989          NaT\n",
       "Length: 33529, dtype: timedelta64[ns]"
      ]
     },
     "execution_count": 50,
     "metadata": {},
     "output_type": "execute_result"
    }
   ],
   "source": [
    "((main_task['data_reviews_2'][(main_task['data_reviews_2'] > '1970-01-01')]) -\n",
    " (main_task['data_reviews_1'][(main_task['data_reviews_1'] > '1970-01-01')])).sort_values()"
   ]
  },
  {
   "cell_type": "markdown",
   "metadata": {},
   "source": [
    "Хотя честно, даты отзывов не влияют на рейтинг, да и не принимаются моделью.\n",
    "\n",
    "Гораздо интереснее выделить положительно окрашенные слова (good, fine, great, fantastic) или негативно окрашенные (bad) и создать на их основании признаки. Или например по словам типа cheap или expensive заполнить пропуски в столбце Price_Range. Но моих навыков на данном этапе обучения не хватило для этого. Надеюсь научится)) Придется удалить эти признаки."
   ]
  },
  {
   "cell_type": "markdown",
   "metadata": {},
   "source": [
    "# Проведем корреляционный анализ"
   ]
  },
  {
   "cell_type": "code",
   "execution_count": 51,
   "metadata": {},
   "outputs": [
    {
     "data": {
      "text/plain": [
       "<AxesSubplot:>"
      ]
     },
     "execution_count": 51,
     "metadata": {},
     "output_type": "execute_result"
    },
    {
     "data": {
      "image/png": "[encoded data removed]",
      "text/plain": [
       "<Figure size 432x288 with 2 Axes>"
      ]
     },
     "metadata": {},
     "output_type": "display_data"
    }
   ],
   "source": [
    "plt.figure()\n",
    "sns.heatmap(main_task.corr())"
   ]
  },
  {
   "cell_type": "code",
   "execution_count": 52,
   "metadata": {},
   "outputs": [],
   "source": [
    "# Х - данные с информацией о ресторанах, у - целевая переменная (рейтинги ресторанов)\n",
    "# Что бы модель сработала оставим в переменной X только столбцы в формате float\n",
    "X = main_task.drop(['Rating', 'Reviews', 'URL_TA', 'City', 'Price_Range', 'data_reviews_1', 'data_reviews_2'], axis=1)\n",
    "y = main_task['Rating']"
   ]
  },
  {
   "cell_type": "code",
   "execution_count": 53,
   "metadata": {},
   "outputs": [],
   "source": [
    "# Загружаем специальный инструмент для разбивки:\n",
    "from sklearn.model_selection import train_test_split"
   ]
  },
  {
   "cell_type": "code",
   "execution_count": 54,
   "metadata": {},
   "outputs": [],
   "source": [
    "# Наборы данных с меткой \"train\" будут использоваться для обучения модели, \"test\" - для тестирования.\n",
    "# Для тестирования мы будем использовать 25% от исходного датасета.\n",
    "X_train, X_test, y_train, y_test = train_test_split(X, y, test_size=0.25)"
   ]
  },
  {
   "cell_type": "code",
   "execution_count": 55,
   "metadata": {},
   "outputs": [],
   "source": [
    "# Импортируем необходимые библиотеки:\n",
    "from sklearn.ensemble import RandomForestRegressor # инструмент для создания и обучения модели\n",
    "from sklearn import metrics # инструменты для оценки точности модели"
   ]
  },
  {
   "cell_type": "code",
   "execution_count": 56,
   "metadata": {},
   "outputs": [],
   "source": [
    "# Создаём модель\n",
    "regr = RandomForestRegressor(n_estimators=100)\n",
    "\n",
    "# Обучаем модель на тестовом наборе данных\n",
    "regr.fit(X_train, y_train)\n",
    "\n",
    "# Используем обученную модель для предсказания рейтинга ресторанов в тестовой выборке.\n",
    "# Предсказанные значения записываем в переменную y_pred\n",
    "y_pred = regr.predict(X_test)"
   ]
  },
  {
   "cell_type": "code",
   "execution_count": 57,
   "metadata": {},
   "outputs": [
    {
     "name": "stdout",
     "output_type": "stream",
     "text": [
      "MAE: 0.212245\n"
     ]
    }
   ],
   "source": [
    "# Сравниваем предсказанные значения (y_pred) с реальными (y_test), и смотрим насколько они в среднем отличаются\n",
    "# Метрика называется Mean Absolute Error (MAE) и показывает среднее отклонение предсказанных значений от фактических.\n",
    "print('MAE:', metrics.mean_absolute_error(y_test, y_pred))"
   ]
  },
  {
   "cell_type": "markdown",
   "metadata": {},
   "source": [
    "ссылка на Kaggle"
   ]
  },
  {
   "cell_type": "markdown",
   "metadata": {},
   "source": [
    "https://www.kaggle.com/alexandrasokolova/baseline-sf-tripadvisor-rating-v2-7"
   ]
  },
  {
   "cell_type": "code",
   "execution_count": null,
   "metadata": {},
   "outputs": [],
   "source": []
  }
 ],
 "metadata": {
  "kernelspec": {
   "display_name": "Python 3",
   "language": "python",
   "name": "python3"
  },
  "language_info": {
   "codemirror_mode": {
    "name": "ipython",
    "version": 3
   },
   "file_extension": ".py",
   "mimetype": "text/x-python",
   "name": "python",
   "nbconvert_exporter": "python",
   "pygments_lexer": "ipython3",
   "version": "3.7.6"
  }
 },
 "nbformat": 4,
 "nbformat_minor": 4
}
